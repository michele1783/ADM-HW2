{
 "cells": [
  {
   "cell_type": "code",
   "execution_count": 24,
   "metadata": {},
   "outputs": [],
   "source": [
    "import pandas as pd\n",
    "import matplotlib.pyplot as plt\n",
    "import numpy as np\n",
    "import math\n",
    "import seaborn as sns\n",
    "from datetime import datetime"
   ]
  },
  {
   "cell_type": "code",
   "execution_count": 2,
   "metadata": {},
   "outputs": [],
   "source": [
    "dataset = pd.read_csv('steam_reviews.csv')"
   ]
  },
  {
   "cell_type": "code",
   "execution_count": 4,
   "metadata": {},
   "outputs": [],
   "source": [
    "def parsedate(time_as_a_unix_timestamp):\n",
    "    return pd.to_datetime(time_as_a_unix_timestamp, unit = 's')\n"
   ]
  },
  {
   "cell_type": "code",
   "execution_count": 5,
   "metadata": {},
   "outputs": [],
   "source": [
    "dataset = pd.read_csv('steam_reviews.csv', header='infer',\n",
    "parse_dates=['timestamp_created',\n",
    "'timestamp_updated', 'author.last_played'],\n",
    "date_parser=parsedate)"
   ]
  },
  {
   "cell_type": "code",
   "execution_count": 6,
   "metadata": {},
   "outputs": [
    {
     "data": {
      "text/plain": [
       "Index(['Unnamed: 0', 'app_id', 'app_name', 'review_id', 'language', 'review',\n",
       "       'timestamp_created', 'timestamp_updated', 'recommended',\n",
       "       'votes_helpful', 'votes_funny', 'weighted_vote_score', 'comment_count',\n",
       "       'steam_purchase', 'received_for_free', 'written_during_early_access',\n",
       "       'author.steamid', 'author.num_games_owned', 'author.num_reviews',\n",
       "       'author.playtime_forever', 'author.playtime_last_two_weeks',\n",
       "       'author.playtime_at_review', 'author.last_played'],\n",
       "      dtype='object')"
      ]
     },
     "execution_count": 6,
     "metadata": {},
     "output_type": "execute_result"
    }
   ],
   "source": [
    "dataset.columns"
   ]
  },
  {
   "cell_type": "code",
   "execution_count": 7,
   "metadata": {},
   "outputs": [
    {
     "data": {
      "text/plain": [
       "(21747371, 23)"
      ]
     },
     "execution_count": 7,
     "metadata": {},
     "output_type": "execute_result"
    }
   ],
   "source": [
    "dataset.shape"
   ]
  },
  {
   "cell_type": "markdown",
   "metadata": {},
   "source": [
    "# RQ1"
   ]
  },
  {
   "cell_type": "code",
   "execution_count": 44,
   "metadata": {},
   "outputs": [
    {
     "data": {
      "text/html": [
       "<div>\n",
       "<style scoped>\n",
       "    .dataframe tbody tr th:only-of-type {\n",
       "        vertical-align: middle;\n",
       "    }\n",
       "\n",
       "    .dataframe tbody tr th {\n",
       "        vertical-align: top;\n",
       "    }\n",
       "\n",
       "    .dataframe thead th {\n",
       "        text-align: right;\n",
       "    }\n",
       "</style>\n",
       "<table border=\"1\" class=\"dataframe\">\n",
       "  <thead>\n",
       "    <tr style=\"text-align: right;\">\n",
       "      <th></th>\n",
       "      <th>Unnamed: 0</th>\n",
       "      <th>app_id</th>\n",
       "      <th>review_id</th>\n",
       "      <th>votes_helpful</th>\n",
       "      <th>votes_funny</th>\n",
       "      <th>weighted_vote_score</th>\n",
       "      <th>comment_count</th>\n",
       "      <th>author.steamid</th>\n",
       "      <th>author.num_games_owned</th>\n",
       "      <th>author.num_reviews</th>\n",
       "      <th>author.playtime_forever</th>\n",
       "      <th>author.playtime_last_two_weeks</th>\n",
       "      <th>author.playtime_at_review</th>\n",
       "    </tr>\n",
       "  </thead>\n",
       "  <tbody>\n",
       "    <tr>\n",
       "      <th>count</th>\n",
       "      <td>2.174737e+07</td>\n",
       "      <td>2.174737e+07</td>\n",
       "      <td>2.174737e+07</td>\n",
       "      <td>2.174737e+07</td>\n",
       "      <td>2.174737e+07</td>\n",
       "      <td>2.174737e+07</td>\n",
       "      <td>2.174737e+07</td>\n",
       "      <td>2.174737e+07</td>\n",
       "      <td>2.174737e+07</td>\n",
       "      <td>2.174737e+07</td>\n",
       "      <td>2.174737e+07</td>\n",
       "      <td>2.174737e+07</td>\n",
       "      <td>2.172169e+07</td>\n",
       "    </tr>\n",
       "    <tr>\n",
       "      <th>mean</th>\n",
       "      <td>1.087369e+07</td>\n",
       "      <td>3.928181e+05</td>\n",
       "      <td>5.187500e+07</td>\n",
       "      <td>4.044689e+05</td>\n",
       "      <td>1.267917e+05</td>\n",
       "      <td>1.654424e-01</td>\n",
       "      <td>1.308768e-01</td>\n",
       "      <td>7.656120e+16</td>\n",
       "      <td>1.011300e+06</td>\n",
       "      <td>4.044775e+05</td>\n",
       "      <td>1.609105e+04</td>\n",
       "      <td>1.555421e+02</td>\n",
       "      <td>8.807421e+03</td>\n",
       "    </tr>\n",
       "    <tr>\n",
       "      <th>std</th>\n",
       "      <td>6.277927e+06</td>\n",
       "      <td>2.480977e+05</td>\n",
       "      <td>2.084267e+07</td>\n",
       "      <td>1.333741e+09</td>\n",
       "      <td>2.333553e+07</td>\n",
       "      <td>2.434006e-01</td>\n",
       "      <td>2.199398e+00</td>\n",
       "      <td>3.179438e+08</td>\n",
       "      <td>2.108829e+09</td>\n",
       "      <td>1.333741e+09</td>\n",
       "      <td>3.743057e+04</td>\n",
       "      <td>7.300488e+02</td>\n",
       "      <td>2.388553e+04</td>\n",
       "    </tr>\n",
       "    <tr>\n",
       "      <th>min</th>\n",
       "      <td>0.000000e+00</td>\n",
       "      <td>7.000000e+01</td>\n",
       "      <td>4.300000e+01</td>\n",
       "      <td>0.000000e+00</td>\n",
       "      <td>0.000000e+00</td>\n",
       "      <td>0.000000e+00</td>\n",
       "      <td>0.000000e+00</td>\n",
       "      <td>7.656120e+16</td>\n",
       "      <td>0.000000e+00</td>\n",
       "      <td>1.000000e+00</td>\n",
       "      <td>0.000000e+00</td>\n",
       "      <td>0.000000e+00</td>\n",
       "      <td>1.000000e+00</td>\n",
       "    </tr>\n",
       "    <tr>\n",
       "      <th>25%</th>\n",
       "      <td>5.436844e+06</td>\n",
       "      <td>2.427600e+05</td>\n",
       "      <td>3.639355e+07</td>\n",
       "      <td>0.000000e+00</td>\n",
       "      <td>0.000000e+00</td>\n",
       "      <td>0.000000e+00</td>\n",
       "      <td>0.000000e+00</td>\n",
       "      <td>7.656120e+16</td>\n",
       "      <td>2.200000e+01</td>\n",
       "      <td>2.000000e+00</td>\n",
       "      <td>1.250000e+03</td>\n",
       "      <td>0.000000e+00</td>\n",
       "      <td>5.590000e+02</td>\n",
       "    </tr>\n",
       "    <tr>\n",
       "      <th>50%</th>\n",
       "      <td>1.087369e+07</td>\n",
       "      <td>3.595500e+05</td>\n",
       "      <td>5.384058e+07</td>\n",
       "      <td>0.000000e+00</td>\n",
       "      <td>0.000000e+00</td>\n",
       "      <td>0.000000e+00</td>\n",
       "      <td>0.000000e+00</td>\n",
       "      <td>7.656120e+16</td>\n",
       "      <td>6.100000e+01</td>\n",
       "      <td>4.000000e+00</td>\n",
       "      <td>4.307000e+03</td>\n",
       "      <td>0.000000e+00</td>\n",
       "      <td>1.881000e+03</td>\n",
       "    </tr>\n",
       "    <tr>\n",
       "      <th>75%</th>\n",
       "      <td>1.631053e+07</td>\n",
       "      <td>5.780800e+05</td>\n",
       "      <td>6.928793e+07</td>\n",
       "      <td>1.000000e+00</td>\n",
       "      <td>0.000000e+00</td>\n",
       "      <td>4.827586e-01</td>\n",
       "      <td>0.000000e+00</td>\n",
       "      <td>7.656120e+16</td>\n",
       "      <td>1.450000e+02</td>\n",
       "      <td>1.000000e+01</td>\n",
       "      <td>1.491200e+04</td>\n",
       "      <td>0.000000e+00</td>\n",
       "      <td>6.823000e+03</td>\n",
       "    </tr>\n",
       "    <tr>\n",
       "      <th>max</th>\n",
       "      <td>2.174738e+07</td>\n",
       "      <td>1.291340e+06</td>\n",
       "      <td>8.521867e+07</td>\n",
       "      <td>4.398047e+12</td>\n",
       "      <td>4.294967e+09</td>\n",
       "      <td>9.959868e-01</td>\n",
       "      <td>4.893000e+03</td>\n",
       "      <td>7.656120e+16</td>\n",
       "      <td>4.398047e+12</td>\n",
       "      <td>4.398047e+12</td>\n",
       "      <td>3.744943e+06</td>\n",
       "      <td>2.703900e+04</td>\n",
       "      <td>3.228103e+06</td>\n",
       "    </tr>\n",
       "  </tbody>\n",
       "</table>\n",
       "</div>"
      ],
      "text/plain": [
       "         Unnamed: 0        app_id     review_id  votes_helpful   votes_funny  \\\n",
       "count  2.174737e+07  2.174737e+07  2.174737e+07   2.174737e+07  2.174737e+07   \n",
       "mean   1.087369e+07  3.928181e+05  5.187500e+07   4.044689e+05  1.267917e+05   \n",
       "std    6.277927e+06  2.480977e+05  2.084267e+07   1.333741e+09  2.333553e+07   \n",
       "min    0.000000e+00  7.000000e+01  4.300000e+01   0.000000e+00  0.000000e+00   \n",
       "25%    5.436844e+06  2.427600e+05  3.639355e+07   0.000000e+00  0.000000e+00   \n",
       "50%    1.087369e+07  3.595500e+05  5.384058e+07   0.000000e+00  0.000000e+00   \n",
       "75%    1.631053e+07  5.780800e+05  6.928793e+07   1.000000e+00  0.000000e+00   \n",
       "max    2.174738e+07  1.291340e+06  8.521867e+07   4.398047e+12  4.294967e+09   \n",
       "\n",
       "       weighted_vote_score  comment_count  author.steamid  \\\n",
       "count         2.174737e+07   2.174737e+07    2.174737e+07   \n",
       "mean          1.654424e-01   1.308768e-01    7.656120e+16   \n",
       "std           2.434006e-01   2.199398e+00    3.179438e+08   \n",
       "min           0.000000e+00   0.000000e+00    7.656120e+16   \n",
       "25%           0.000000e+00   0.000000e+00    7.656120e+16   \n",
       "50%           0.000000e+00   0.000000e+00    7.656120e+16   \n",
       "75%           4.827586e-01   0.000000e+00    7.656120e+16   \n",
       "max           9.959868e-01   4.893000e+03    7.656120e+16   \n",
       "\n",
       "       author.num_games_owned  author.num_reviews  author.playtime_forever  \\\n",
       "count            2.174737e+07        2.174737e+07             2.174737e+07   \n",
       "mean             1.011300e+06        4.044775e+05             1.609105e+04   \n",
       "std              2.108829e+09        1.333741e+09             3.743057e+04   \n",
       "min              0.000000e+00        1.000000e+00             0.000000e+00   \n",
       "25%              2.200000e+01        2.000000e+00             1.250000e+03   \n",
       "50%              6.100000e+01        4.000000e+00             4.307000e+03   \n",
       "75%              1.450000e+02        1.000000e+01             1.491200e+04   \n",
       "max              4.398047e+12        4.398047e+12             3.744943e+06   \n",
       "\n",
       "       author.playtime_last_two_weeks  author.playtime_at_review  \n",
       "count                    2.174737e+07               2.172169e+07  \n",
       "mean                     1.555421e+02               8.807421e+03  \n",
       "std                      7.300488e+02               2.388553e+04  \n",
       "min                      0.000000e+00               1.000000e+00  \n",
       "25%                      0.000000e+00               5.590000e+02  \n",
       "50%                      0.000000e+00               1.881000e+03  \n",
       "75%                      0.000000e+00               6.823000e+03  \n",
       "max                      2.703900e+04               3.228103e+06  "
      ]
     },
     "execution_count": 44,
     "metadata": {},
     "output_type": "execute_result"
    }
   ],
   "source": [
    "dataset.describe()"
   ]
  },
  {
   "cell_type": "markdown",
   "metadata": {},
   "source": [
    "le percentuali che si vedono sono dopo aver selezionato i primi 30 giochi, quindi sono il numero di recensioni rispetto a quelle totali ricevute dai primi trenta"
   ]
  },
  {
   "cell_type": "code",
   "execution_count": 13,
   "metadata": {},
   "outputs": [
    {
     "data": {
      "image/png": "[encoded data removed]",
      "text/plain": [
       "<Figure size 720x720 with 1 Axes>"
      ]
     },
     "metadata": {},
     "output_type": "display_data"
    }
   ],
   "source": [
    "a = pd.Series(dataset.groupby(\"app_name\").app_id.count().sort_values(ascending=False).head(30))\n",
    "plt.rcParams['figure.figsize'] = (10, 10)\n",
    "plt.pie(a,\n",
    "labels = a.index,\n",
    "explode = [0.1 for value in range(0, a.index.nunique())],\n",
    "shadow = True, autopct = '%.1f%%')\n",
    "plt.title('Application name', fontsize = 20)\n",
    "plt.axis('off')\n",
    "plt.show()"
   ]
  },
  {
   "cell_type": "code",
   "execution_count": 19,
   "metadata": {},
   "outputs": [
    {
     "data": {
      "text/plain": [
       "<matplotlib.axes._subplots.AxesSubplot at 0x7fccaf83f700>"
      ]
     },
     "execution_count": 19,
     "metadata": {},
     "output_type": "execute_result"
    },
    {
     "data": {
      "image/png": "[encoded data removed]",
      "text/plain": [
       "<Figure size 720x720 with 2 Axes>"
      ]
     },
     "metadata": {
      "needs_background": "light"
     },
     "output_type": "display_data"
    }
   ],
   "source": [
    "sns.heatmap(dataset.corr())"
   ]
  },
  {
   "cell_type": "markdown",
   "metadata": {},
   "source": [
    "abbiamo plottato la correlation matrix di tutto il dataset e abbiamo notato che non c'è nessuna correlazione particolare fra le varie colonne tranne che quelle relative al tempo giocato dell'autore perciò procediamo con il plottare la matrix correlation di quelle variabili per avere info più precise sui valori "
   ]
  },
  {
   "cell_type": "code",
   "execution_count": 18,
   "metadata": {},
   "outputs": [
    {
     "data": {
      "image/png": "[encoded data removed]",
      "text/plain": [
       "<Figure size 720x720 with 2 Axes>"
      ]
     },
     "metadata": {
      "needs_background": "light"
     },
     "output_type": "display_data"
    }
   ],
   "source": [
    "df = pd.DataFrame(dataset,columns=['author.playtime_forever','author.playtime_last_two_weeks','author.playtime_at_review'])\n",
    "corrMatrix = df.corr()\n",
    "sns.heatmap(corrMatrix, annot=True)\n",
    "plt.show()\n"
   ]
  },
  {
   "cell_type": "code",
   "execution_count": 25,
   "metadata": {},
   "outputs": [],
   "source": [
    "def funzz(lista):    \n",
    "    dataset_4 = dataset[\"language\", 'timestamp_created']\n",
    "    lista = [datetime.strptime(t, '%H:%M:%S') for t in lista]\n",
    "    sec_1 = []\n",
    "    min_1 = []\n",
    "    ora_1 = []\n",
    "    number_review = []\n",
    "    for i in range(len(lista)):\n",
    "        sec_1.append(lista[i].time().second)\n",
    "        min_1.append(lista[i].time().minute)\n",
    "        ora_1.append(lista[i].time().hour)\n",
    "    for i in range(0, len(lista), 2):\n",
    "        number_review.append(dataset[(dataset.timestamp_created.dt.hour >= ora_1[i]) & (dataset.timestamp_created.dt.minute >= min_1[i]) & (dataset.timestamp_created.dt.second >= sec_1[i]) & (dataset.timestamp_created.dt.hour <= ora_1[i+1]) & (dataset.timestamp_created.dt.minute <= min_1[i+1]) & (dataset.timestamp_created.dt.second <= sec_1[i+1])].review_id.count())\n",
    "    xx = ['8am', '2pm', '10pm']\n",
    "    plt.bar(xx, number_review, color = 'green')\n",
    "    plt.yscale('log')\n",
    "    #plt.yticks([2000000, 2500000, 3000000, 3500000, 4000000])\n",
    "    plt.title('Number of review for each interval of time')\n",
    "    plt.xlabel('Intervals')\n",
    "    plt.ylabel('Number of review')\n",
    "    plt.show()"
   ]
  },
  {
   "cell_type": "code",
   "execution_count": 37,
   "metadata": {},
   "outputs": [],
   "source": [
    "dataset_4 = dataset[[\"language\", \"timestamp_created\"]]"
   ]
  },
  {
   "cell_type": "code",
   "execution_count": 38,
   "metadata": {},
   "outputs": [
    {
     "data": {
      "text/html": [
       "<div>\n",
       "<style scoped>\n",
       "    .dataframe tbody tr th:only-of-type {\n",
       "        vertical-align: middle;\n",
       "    }\n",
       "\n",
       "    .dataframe tbody tr th {\n",
       "        vertical-align: top;\n",
       "    }\n",
       "\n",
       "    .dataframe thead th {\n",
       "        text-align: right;\n",
       "    }\n",
       "</style>\n",
       "<table border=\"1\" class=\"dataframe\">\n",
       "  <thead>\n",
       "    <tr style=\"text-align: right;\">\n",
       "      <th></th>\n",
       "      <th>language</th>\n",
       "      <th>timestamp_created</th>\n",
       "    </tr>\n",
       "  </thead>\n",
       "  <tbody>\n",
       "    <tr>\n",
       "      <th>0</th>\n",
       "      <td>schinese</td>\n",
       "      <td>2021-01-23 06:00:29</td>\n",
       "    </tr>\n",
       "    <tr>\n",
       "      <th>1</th>\n",
       "      <td>schinese</td>\n",
       "      <td>2021-01-23 05:50:30</td>\n",
       "    </tr>\n",
       "    <tr>\n",
       "      <th>2</th>\n",
       "      <td>schinese</td>\n",
       "      <td>2021-01-23 05:46:40</td>\n",
       "    </tr>\n",
       "    <tr>\n",
       "      <th>3</th>\n",
       "      <td>english</td>\n",
       "      <td>2021-01-23 05:32:50</td>\n",
       "    </tr>\n",
       "    <tr>\n",
       "      <th>4</th>\n",
       "      <td>schinese</td>\n",
       "      <td>2021-01-23 05:23:47</td>\n",
       "    </tr>\n",
       "    <tr>\n",
       "      <th>...</th>\n",
       "      <td>...</td>\n",
       "      <td>...</td>\n",
       "    </tr>\n",
       "    <tr>\n",
       "      <th>21747366</th>\n",
       "      <td>english</td>\n",
       "      <td>2020-03-23 18:05:04</td>\n",
       "    </tr>\n",
       "    <tr>\n",
       "      <th>21747367</th>\n",
       "      <td>english</td>\n",
       "      <td>2020-03-23 18:04:53</td>\n",
       "    </tr>\n",
       "    <tr>\n",
       "      <th>21747368</th>\n",
       "      <td>english</td>\n",
       "      <td>2020-03-23 18:04:33</td>\n",
       "    </tr>\n",
       "    <tr>\n",
       "      <th>21747369</th>\n",
       "      <td>english</td>\n",
       "      <td>2020-03-23 18:03:51</td>\n",
       "    </tr>\n",
       "    <tr>\n",
       "      <th>21747370</th>\n",
       "      <td>schinese</td>\n",
       "      <td>2020-03-23 18:01:45</td>\n",
       "    </tr>\n",
       "  </tbody>\n",
       "</table>\n",
       "<p>21747371 rows × 2 columns</p>\n",
       "</div>"
      ],
      "text/plain": [
       "          language   timestamp_created\n",
       "0         schinese 2021-01-23 06:00:29\n",
       "1         schinese 2021-01-23 05:50:30\n",
       "2         schinese 2021-01-23 05:46:40\n",
       "3          english 2021-01-23 05:32:50\n",
       "4         schinese 2021-01-23 05:23:47\n",
       "...            ...                 ...\n",
       "21747366   english 2020-03-23 18:05:04\n",
       "21747367   english 2020-03-23 18:04:53\n",
       "21747368   english 2020-03-23 18:04:33\n",
       "21747369   english 2020-03-23 18:03:51\n",
       "21747370  schinese 2020-03-23 18:01:45\n",
       "\n",
       "[21747371 rows x 2 columns]"
      ]
     },
     "execution_count": 38,
     "metadata": {},
     "output_type": "execute_result"
    }
   ],
   "source": [
    "dataset_4"
   ]
  },
  {
   "cell_type": "code",
   "execution_count": 41,
   "metadata": {},
   "outputs": [
    {
     "data": {
      "text/plain": [
       "language\n",
       "english     600\n",
       "schinese    460\n",
       "russian     233\n",
       "german       74\n",
       "koreana      65\n",
       "Name: language, dtype: int64"
      ]
     },
     "execution_count": 41,
     "metadata": {},
     "output_type": "execute_result"
    }
   ],
   "source": [
    "a = dataset_4[(dataset_4.timestamp_created.dt.hour >= 8) & (dataset_4.timestamp_created.dt.minute >= 0) & (dataset_4.timestamp_created.dt.second >= 0) & (dataset_4.timestamp_created.dt.hour <= 14) & (dataset_4.timestamp_created.dt.minute <= 0) & (dataset_4.timestamp_created.dt.second <= 0)]\n",
    "a.groupby(\"language\").language.count().sort_values(ascending=False).head(5)\n"
   ]
  },
  {
   "cell_type": "code",
   "execution_count": 43,
   "metadata": {},
   "outputs": [
    {
     "data": {
      "text/html": [
       "<div>\n",
       "<style scoped>\n",
       "    .dataframe tbody tr th:only-of-type {\n",
       "        vertical-align: middle;\n",
       "    }\n",
       "\n",
       "    .dataframe tbody tr th {\n",
       "        vertical-align: top;\n",
       "    }\n",
       "\n",
       "    .dataframe thead th {\n",
       "        text-align: right;\n",
       "    }\n",
       "</style>\n",
       "<table border=\"1\" class=\"dataframe\">\n",
       "  <thead>\n",
       "    <tr style=\"text-align: right;\">\n",
       "      <th></th>\n",
       "      <th>Unnamed: 0</th>\n",
       "      <th>app_id</th>\n",
       "      <th>app_name</th>\n",
       "      <th>review_id</th>\n",
       "      <th>language</th>\n",
       "      <th>review</th>\n",
       "      <th>timestamp_created</th>\n",
       "      <th>timestamp_updated</th>\n",
       "      <th>recommended</th>\n",
       "      <th>votes_helpful</th>\n",
       "      <th>...</th>\n",
       "      <th>steam_purchase</th>\n",
       "      <th>received_for_free</th>\n",
       "      <th>written_during_early_access</th>\n",
       "      <th>author.steamid</th>\n",
       "      <th>author.num_games_owned</th>\n",
       "      <th>author.num_reviews</th>\n",
       "      <th>author.playtime_forever</th>\n",
       "      <th>author.playtime_last_two_weeks</th>\n",
       "      <th>author.playtime_at_review</th>\n",
       "      <th>author.last_played</th>\n",
       "    </tr>\n",
       "  </thead>\n",
       "  <tbody>\n",
       "  </tbody>\n",
       "</table>\n",
       "<p>0 rows × 23 columns</p>\n",
       "</div>"
      ],
      "text/plain": [
       "Empty DataFrame\n",
       "Columns: [Unnamed: 0, app_id, app_name, review_id, language, review, timestamp_created, timestamp_updated, recommended, votes_helpful, votes_funny, weighted_vote_score, comment_count, steam_purchase, received_for_free, written_during_early_access, author.steamid, author.num_games_owned, author.num_reviews, author.playtime_forever, author.playtime_last_two_weeks, author.playtime_at_review, author.last_played]\n",
       "Index: []\n",
       "\n",
       "[0 rows x 23 columns]"
      ]
     },
     "execution_count": 43,
     "metadata": {},
     "output_type": "execute_result"
    }
   ],
   "source": [
    "b = dataset[(dataset.timestamp_created.dt.hour >= 14) & (dataset.timestamp_created.dt.minute >= 0) & (dataset.timestamp_created.dt.second >= 0) & (dataset.timestamp_created.dt.hour <= 22) & (dataset.timestamp_created.dt.minute <= 0) & (dataset.timestamp_created.dt.second <= 0)]\n",
    "#b.groupby(\"language\").language.count().sort_values(ascending=False).head(5)\n",
    "b"
   ]
  },
  {
   "cell_type": "code",
   "execution_count": 40,
   "metadata": {},
   "outputs": [],
   "source": [
    "#dataset[(dataset.timestamp_created.dt.time>='8:00:00') & (dataset.timestamp_created.dt.time<='14:00:00')]"
   ]
  },
  {
   "cell_type": "code",
   "execution_count": 55,
   "metadata": {},
   "outputs": [],
   "source": [
    "arr_1 = np.array((dataset['timestamp_created'].dt.time.astype('str') >= \"08:00:00\")& (dataset['timestamp_created'].dt.time.astype('str') <= \"14:00:00\"))\n",
    "arr_2 = np.array((dataset['timestamp_created'].dt.time.astype('str') >= \"14:00:01\")& (dataset['timestamp_created'].dt.time.astype('str') <= \"22:00:00\"))\n",
    "arr_3 = np.array((dataset['timestamp_created'].dt.time.astype('str') >= \"22:00:01\")& (dataset['timestamp_created'].dt.time.astype('str') <= \"7:59:59\"))\n",
    "\n",
    "\n"
   ]
  },
  {
   "cell_type": "code",
   "execution_count": 63,
   "metadata": {},
   "outputs": [],
   "source": [
    "a = pd.Series(dataset[arr_1].groupby(\"language\").language.count().sort_values(ascending=False).head(10))\n"
   ]
  },
  {
   "cell_type": "code",
   "execution_count": 80,
   "metadata": {},
   "outputs": [
    {
     "data": {
      "text/plain": [
       "language\n",
       "english      1723702\n",
       "schinese     1426743\n",
       "russian       777686\n",
       "koreana       238318\n",
       "german        202335\n",
       "turkish       188741\n",
       "polish        148360\n",
       "french        143969\n",
       "spanish       107999\n",
       "brazilian      91852\n",
       "Name: language, dtype: int64"
      ]
     },
     "execution_count": 80,
     "metadata": {},
     "output_type": "execute_result"
    }
   ],
   "source": [
    "a"
   ]
  },
  {
   "cell_type": "code",
   "execution_count": 66,
   "metadata": {},
   "outputs": [],
   "source": [
    "b = pd.Series(dataset[arr_2].groupby(\"language\").language.count().sort_values(ascending=False).head(10))"
   ]
  },
  {
   "cell_type": "code",
   "execution_count": 77,
   "metadata": {},
   "outputs": [
    {
     "data": {
      "text/plain": [
       "language\n",
       "english      3818059\n",
       "russian      1099360\n",
       "schinese      916086\n",
       "german        418563\n",
       "brazilian     370425\n",
       "spanish       345741\n",
       "turkish       327838\n",
       "french        281883\n",
       "polish        270653\n",
       "koreana       157203\n",
       "Name: language, dtype: int64"
      ]
     },
     "execution_count": 77,
     "metadata": {},
     "output_type": "execute_result"
    }
   ],
   "source": [
    "b"
   ]
  },
  {
   "cell_type": "code",
   "execution_count": 59,
   "metadata": {},
   "outputs": [],
   "source": [
    "c = pd.Series(dataset[arr_3].groupby(\"language\").language.count().sort_values(ascending=False).head(10))"
   ]
  },
  {
   "cell_type": "code",
   "execution_count": 81,
   "metadata": {},
   "outputs": [
    {
     "data": {
      "text/plain": [
       "language\n",
       "english      985736\n",
       "brazilian    111522\n",
       "russian       99048\n",
       "spanish       98581\n",
       "schinese      66039\n",
       "german        59597\n",
       "french        48916\n",
       "turkish       44808\n",
       "polish        35184\n",
       "koreana       17926\n",
       "Name: language, dtype: int64"
      ]
     },
     "execution_count": 81,
     "metadata": {},
     "output_type": "execute_result"
    }
   ],
   "source": [
    "c"
   ]
  },
  {
   "cell_type": "code",
   "execution_count": 75,
   "metadata": {},
   "outputs": [],
   "source": [
    "df = a.to_frame()\n"
   ]
  },
  {
   "cell_type": "code",
   "execution_count": 78,
   "metadata": {},
   "outputs": [],
   "source": [
    "df[\"language_fascia_2\"]=b"
   ]
  },
  {
   "cell_type": "code",
   "execution_count": 79,
   "metadata": {},
   "outputs": [
    {
     "data": {
      "text/html": [
       "<div>\n",
       "<style scoped>\n",
       "    .dataframe tbody tr th:only-of-type {\n",
       "        vertical-align: middle;\n",
       "    }\n",
       "\n",
       "    .dataframe tbody tr th {\n",
       "        vertical-align: top;\n",
       "    }\n",
       "\n",
       "    .dataframe thead th {\n",
       "        text-align: right;\n",
       "    }\n",
       "</style>\n",
       "<table border=\"1\" class=\"dataframe\">\n",
       "  <thead>\n",
       "    <tr style=\"text-align: right;\">\n",
       "      <th></th>\n",
       "      <th>language</th>\n",
       "      <th>language_fascia_2</th>\n",
       "    </tr>\n",
       "    <tr>\n",
       "      <th>language</th>\n",
       "      <th></th>\n",
       "      <th></th>\n",
       "    </tr>\n",
       "  </thead>\n",
       "  <tbody>\n",
       "    <tr>\n",
       "      <th>english</th>\n",
       "      <td>1723702</td>\n",
       "      <td>3818059</td>\n",
       "    </tr>\n",
       "    <tr>\n",
       "      <th>schinese</th>\n",
       "      <td>1426743</td>\n",
       "      <td>916086</td>\n",
       "    </tr>\n",
       "    <tr>\n",
       "      <th>russian</th>\n",
       "      <td>777686</td>\n",
       "      <td>1099360</td>\n",
       "    </tr>\n",
       "    <tr>\n",
       "      <th>koreana</th>\n",
       "      <td>238318</td>\n",
       "      <td>157203</td>\n",
       "    </tr>\n",
       "    <tr>\n",
       "      <th>german</th>\n",
       "      <td>202335</td>\n",
       "      <td>418563</td>\n",
       "    </tr>\n",
       "    <tr>\n",
       "      <th>turkish</th>\n",
       "      <td>188741</td>\n",
       "      <td>327838</td>\n",
       "    </tr>\n",
       "    <tr>\n",
       "      <th>polish</th>\n",
       "      <td>148360</td>\n",
       "      <td>270653</td>\n",
       "    </tr>\n",
       "    <tr>\n",
       "      <th>french</th>\n",
       "      <td>143969</td>\n",
       "      <td>281883</td>\n",
       "    </tr>\n",
       "    <tr>\n",
       "      <th>spanish</th>\n",
       "      <td>107999</td>\n",
       "      <td>345741</td>\n",
       "    </tr>\n",
       "    <tr>\n",
       "      <th>brazilian</th>\n",
       "      <td>91852</td>\n",
       "      <td>370425</td>\n",
       "    </tr>\n",
       "  </tbody>\n",
       "</table>\n",
       "</div>"
      ],
      "text/plain": [
       "           language  language_fascia_2\n",
       "language                              \n",
       "english     1723702            3818059\n",
       "schinese    1426743             916086\n",
       "russian      777686            1099360\n",
       "koreana      238318             157203\n",
       "german       202335             418563\n",
       "turkish      188741             327838\n",
       "polish       148360             270653\n",
       "french       143969             281883\n",
       "spanish      107999             345741\n",
       "brazilian     91852             370425"
      ]
     },
     "execution_count": 79,
     "metadata": {},
     "output_type": "execute_result"
    }
   ],
   "source": [
    "df"
   ]
  },
  {
   "cell_type": "code",
   "execution_count": 82,
   "metadata": {},
   "outputs": [],
   "source": [
    "\n",
    "df[\"language_fascia_3\"]=c"
   ]
  },
  {
   "cell_type": "code",
   "execution_count": 90,
   "metadata": {},
   "outputs": [],
   "source": [
    "df['index'] = df.index"
   ]
  },
  {
   "cell_type": "code",
   "execution_count": 91,
   "metadata": {},
   "outputs": [
    {
     "data": {
      "text/html": [
       "<div>\n",
       "<style scoped>\n",
       "    .dataframe tbody tr th:only-of-type {\n",
       "        vertical-align: middle;\n",
       "    }\n",
       "\n",
       "    .dataframe tbody tr th {\n",
       "        vertical-align: top;\n",
       "    }\n",
       "\n",
       "    .dataframe thead th {\n",
       "        text-align: right;\n",
       "    }\n",
       "</style>\n",
       "<table border=\"1\" class=\"dataframe\">\n",
       "  <thead>\n",
       "    <tr style=\"text-align: right;\">\n",
       "      <th></th>\n",
       "      <th>language</th>\n",
       "      <th>language_fascia_2</th>\n",
       "      <th>language_fascia_3</th>\n",
       "      <th>index</th>\n",
       "    </tr>\n",
       "    <tr>\n",
       "      <th>language</th>\n",
       "      <th></th>\n",
       "      <th></th>\n",
       "      <th></th>\n",
       "      <th></th>\n",
       "    </tr>\n",
       "  </thead>\n",
       "  <tbody>\n",
       "    <tr>\n",
       "      <th>english</th>\n",
       "      <td>1723702</td>\n",
       "      <td>3818059</td>\n",
       "      <td>985736</td>\n",
       "      <td>english</td>\n",
       "    </tr>\n",
       "    <tr>\n",
       "      <th>schinese</th>\n",
       "      <td>1426743</td>\n",
       "      <td>916086</td>\n",
       "      <td>66039</td>\n",
       "      <td>schinese</td>\n",
       "    </tr>\n",
       "    <tr>\n",
       "      <th>russian</th>\n",
       "      <td>777686</td>\n",
       "      <td>1099360</td>\n",
       "      <td>99048</td>\n",
       "      <td>russian</td>\n",
       "    </tr>\n",
       "    <tr>\n",
       "      <th>koreana</th>\n",
       "      <td>238318</td>\n",
       "      <td>157203</td>\n",
       "      <td>17926</td>\n",
       "      <td>koreana</td>\n",
       "    </tr>\n",
       "    <tr>\n",
       "      <th>german</th>\n",
       "      <td>202335</td>\n",
       "      <td>418563</td>\n",
       "      <td>59597</td>\n",
       "      <td>german</td>\n",
       "    </tr>\n",
       "    <tr>\n",
       "      <th>turkish</th>\n",
       "      <td>188741</td>\n",
       "      <td>327838</td>\n",
       "      <td>44808</td>\n",
       "      <td>turkish</td>\n",
       "    </tr>\n",
       "    <tr>\n",
       "      <th>polish</th>\n",
       "      <td>148360</td>\n",
       "      <td>270653</td>\n",
       "      <td>35184</td>\n",
       "      <td>polish</td>\n",
       "    </tr>\n",
       "    <tr>\n",
       "      <th>french</th>\n",
       "      <td>143969</td>\n",
       "      <td>281883</td>\n",
       "      <td>48916</td>\n",
       "      <td>french</td>\n",
       "    </tr>\n",
       "    <tr>\n",
       "      <th>spanish</th>\n",
       "      <td>107999</td>\n",
       "      <td>345741</td>\n",
       "      <td>98581</td>\n",
       "      <td>spanish</td>\n",
       "    </tr>\n",
       "    <tr>\n",
       "      <th>brazilian</th>\n",
       "      <td>91852</td>\n",
       "      <td>370425</td>\n",
       "      <td>111522</td>\n",
       "      <td>brazilian</td>\n",
       "    </tr>\n",
       "  </tbody>\n",
       "</table>\n",
       "</div>"
      ],
      "text/plain": [
       "           language  language_fascia_2  language_fascia_3      index\n",
       "language                                                            \n",
       "english     1723702            3818059             985736    english\n",
       "schinese    1426743             916086              66039   schinese\n",
       "russian      777686            1099360              99048    russian\n",
       "koreana      238318             157203              17926    koreana\n",
       "german       202335             418563              59597     german\n",
       "turkish      188741             327838              44808    turkish\n",
       "polish       148360             270653              35184     polish\n",
       "french       143969             281883              48916     french\n",
       "spanish      107999             345741              98581    spanish\n",
       "brazilian     91852             370425             111522  brazilian"
      ]
     },
     "execution_count": 91,
     "metadata": {},
     "output_type": "execute_result"
    }
   ],
   "source": [
    "df"
   ]
  },
  {
   "cell_type": "code",
   "execution_count": 93,
   "metadata": {},
   "outputs": [
    {
     "data": {
      "text/plain": [
       "Text(0, 0.5, 'number reviews')"
      ]
     },
     "execution_count": 93,
     "metadata": {},
     "output_type": "execute_result"
    },
    {
     "data": {
      "image/png": "[encoded data removed]",
      "text/plain": [
       "<Figure size 720x576 with 1 Axes>"
      ]
     },
     "metadata": {
      "needs_background": "light"
     },
     "output_type": "display_data"
    }
   ],
   "source": [
    "ax = df.plot(x = \"index\", kind ='bar', stacked = False, figsize =(10,8))\n",
    "ax.set_xlabel('language.index')\n",
    "ax.set_ylabel(\"number reviews\")"
   ]
  },
  {
   "cell_type": "markdown",
   "metadata": {},
   "source": [
    "# RQ2"
   ]
  },
  {
   "cell_type": "markdown",
   "metadata": {},
   "source": [
    "### number of reviews for each application in descending order."
   ]
  },
  {
   "cell_type": "code",
   "execution_count": 8,
   "metadata": {},
   "outputs": [
    {
     "data": {
      "image/png": "[encoded data removed]",
      "text/plain": [
       "<Figure size 1296x504 with 1 Axes>"
      ]
     },
     "metadata": {
      "needs_background": "light"
     },
     "output_type": "display_data"
    }
   ],
   "source": [
    "number_review = dataset.groupby(\"app_name\").review_id.count().sort_values(ascending=False)\n",
    "number_review[0:51].plot.bar(figsize = (18, 7), title=' Number of review', xlabel='Name of application',\n",
    "ylabel='Number of review', color = \"green\", logy = True)\n",
    "#plt.yticks([80000, 100000, 300000, 500000, 700000,1000000, 2000000])\n",
    "#plt.show()\n"
   ]
  },
  {
   "cell_type": "markdown",
   "metadata": {},
   "source": [
    "### Best Weighted Vote Score"
   ]
  },
  {
   "cell_type": "code",
   "execution_count": 9,
   "metadata": {},
   "outputs": [
    {
     "data": {
      "text/plain": [
       "app_name\n",
       "Hunt Down The Freeman                   0.502150\n",
       "Urban Empire                            0.438623\n",
       "METAL GEAR SURVIVE                      0.421632\n",
       "Identity                                0.415384\n",
       "Umbrella Corps                          0.414678\n",
       "Torment: Tides of Numenera              0.411199\n",
       "BERSERK and the Band of the Hawk        0.397092\n",
       "DRAGON QUEST HEROES™ II                 0.381110\n",
       "X Rebirth                               0.380447\n",
       "Toukiden 2                              0.380300\n",
       "Warhammer 40,000: Dawn of War III       0.377935\n",
       "DYNASTY WARRIORS 9                      0.371213\n",
       "RollerCoaster Tycoon World              0.365161\n",
       "Wolfenstein: Youngblood                 0.354932\n",
       "Steel Division: Normandy 44             0.351986\n",
       "SENRAN KAGURA Peach Beach Splash        0.347711\n",
       "Clicker Heroes 2                        0.345768\n",
       "Takedown: Red Sabre                     0.337137\n",
       "Secret of Mana                          0.336822\n",
       "Bless Online                            0.331621\n",
       "Artifact                                0.323762\n",
       "Desolate                                0.322193\n",
       "SOS                                     0.321467\n",
       "Call of Duty: Infinite Warfare          0.321253\n",
       "Cube World                              0.319483\n",
       "WWE 2K17                                0.318298\n",
       "Dead Rising 4                           0.315530\n",
       "The Wild Eight                          0.314761\n",
       "Rapture Rejects                         0.314585\n",
       "Deus Ex: The Fall                       0.310173\n",
       "Down To One                             0.307944\n",
       "Total War Saga: Thrones of Britannia    0.301253\n",
       "Devil May Cry HD Collection             0.301180\n",
       "Battle Royale Trainer                   0.300996\n",
       "Shadow Complex Remastered               0.299182\n",
       "SENRAN KAGURA ESTIVAL VERSUS            0.297126\n",
       "Cold Waters                             0.295933\n",
       "Ultimate Marvel vs. Capcom 3            0.292208\n",
       "CHRONO TRIGGER                          0.291983\n",
       "Call of Duty: WWII                      0.291783\n",
       "ATLAS                                   0.290680\n",
       "Fairy Fencer F Advent Dark Force        0.290322\n",
       "Rise of Industry                        0.289115\n",
       "Rules Of Survival                       0.283490\n",
       "Staxel                                  0.282523\n",
       "Ghost of a Tale                         0.279057\n",
       "Volgarr the Viking                      0.275008\n",
       "Eco                                     0.273722\n",
       "PixARK                                  0.272353\n",
       "BATTALION 1944                          0.271964\n",
       "Name: weighted_vote_score, dtype: float64"
      ]
     },
     "execution_count": 9,
     "metadata": {},
     "output_type": "execute_result"
    }
   ],
   "source": [
    "massimi = pd.Series(dataset.groupby(\"app_name\").weighted_vote_score.mean().sort_values(ascending=False).head(50))\n",
    "#medie = dataset.groupby(\"app_name\").weighted_vote_score.mean().sort_values(ascending=False).head(10)\n",
    "massimi\n",
    "\n"
   ]
  },
  {
   "cell_type": "markdown",
   "metadata": {},
   "source": [
    "### Which applications have the most and the least recommendations"
   ]
  },
  {
   "cell_type": "code",
   "execution_count": 76,
   "metadata": {},
   "outputs": [
    {
     "data": {
      "text/plain": [
       "app_name\n",
       "PLAYERUNKNOWN'S BATTLEGROUNDS     886417\n",
       "Grand Theft Auto V                831311\n",
       "Tom Clancy's Rainbow Six Siege    742397\n",
       "Terraria                          658741\n",
       "Garry's Mod                       632558\n",
       "Rust                              468892\n",
       "Among Us                          463287\n",
       "The Witcher 3: Wild Hunt          460252\n",
       "Rocket League                     449464\n",
       "PAYDAY 2                          428136\n",
       "Name: recommended, dtype: int64"
      ]
     },
     "execution_count": 76,
     "metadata": {},
     "output_type": "execute_result"
    }
   ],
   "source": [
    "#Most\n",
    "new_data = dataset[(dataset.recommended == True)]\n",
    "appp = pd.Series(new_data.groupby(\"app_name\").recommended.count().sort_values(ascending=False).head(10))\n",
    "appp"
   ]
  },
  {
   "cell_type": "code",
   "execution_count": 85,
   "metadata": {},
   "outputs": [
    {
     "data": {
      "text/plain": [
       "app_name\n",
       "PLAYERUNKNOWN'S BATTLEGROUNDS     757838\n",
       "Grand Theft Auto V                187805\n",
       "Tom Clancy's Rainbow Six Siege     99521\n",
       "ARK: Survival Evolved              84766\n",
       "Rust                               80182\n",
       "Dead by Daylight                   73315\n",
       "PAYDAY 2                           59611\n",
       "No Man's Sky                       56537\n",
       "Fallout 4                          49745\n",
       "Rocket League                      49101\n",
       "Name: recommended, dtype: int64"
      ]
     },
     "execution_count": 85,
     "metadata": {},
     "output_type": "execute_result"
    }
   ],
   "source": [
    "#Least\n",
    "new_data1 = dataset[(dataset.recommended == False)]\n",
    "apppp = pd.Series(new_data1.groupby(\"app_name\").recommended.count().sort_values(ascending=False).head(10))\n",
    "apppp"
   ]
  },
  {
   "cell_type": "markdown",
   "metadata": {},
   "source": [
    "### How many of these applications were purchased, and how many were given for free?"
   ]
  },
  {
   "cell_type": "markdown",
   "metadata": {},
   "source": [
    "Fra quelli che hanno ricevuto raccomandazioni positive quanti sono stati ceduti gratuitamente e quanti no"
   ]
  },
  {
   "cell_type": "code",
   "execution_count": 83,
   "metadata": {},
   "outputs": [
    {
     "data": {
      "text/plain": [
       "app_name                        received_for_free\n",
       "Among Us                        False                442858\n",
       "                                True                  20429\n",
       "Garry's Mod                     False                608583\n",
       "                                True                  23975\n",
       "Grand Theft Auto V              False                796151\n",
       "                                True                  35160\n",
       "PAYDAY 2                        False                392454\n",
       "                                True                  35682\n",
       "PLAYERUNKNOWN'S BATTLEGROUNDS   False                842990\n",
       "                                True                  43427\n",
       "Rocket League                   False                432489\n",
       "                                True                  16975\n",
       "Rust                            False                450871\n",
       "                                True                  18021\n",
       "Terraria                        False                639147\n",
       "                                True                  19594\n",
       "The Witcher 3: Wild Hunt        False                454619\n",
       "                                True                   5633\n",
       "Tom Clancy's Rainbow Six Siege  False                709304\n",
       "                                True                  33093\n",
       "Name: recommended, dtype: int64"
      ]
     },
     "execution_count": 83,
     "metadata": {},
     "output_type": "execute_result"
    }
   ],
   "source": [
    "#Most\n",
    "q = list(appp.index)\n",
    "new_data = new_data[(new_data[\"app_name\"].isin(q))]\n",
    "new_data.groupby([\"app_name\", \"received_for_free\"]).recommended.count()"
   ]
  },
  {
   "cell_type": "code",
   "execution_count": 87,
   "metadata": {},
   "outputs": [
    {
     "data": {
      "text/plain": [
       "app_name                        received_for_free\n",
       "ARK: Survival Evolved           False                 82992\n",
       "                                True                   1774\n",
       "Dead by Daylight                False                 70210\n",
       "                                True                   3105\n",
       "Fallout 4                       False                 49023\n",
       "                                True                    722\n",
       "Grand Theft Auto V              False                184341\n",
       "                                True                   3464\n",
       "No Man's Sky                    False                 55951\n",
       "                                True                    586\n",
       "PAYDAY 2                        False                 56880\n",
       "                                True                   2731\n",
       "PLAYERUNKNOWN'S BATTLEGROUNDS   False                739822\n",
       "                                True                  18016\n",
       "Rocket League                   False                 47824\n",
       "                                True                   1277\n",
       "Rust                            False                 78389\n",
       "                                True                   1793\n",
       "Tom Clancy's Rainbow Six Siege  False                 96314\n",
       "                                True                   3207\n",
       "Name: recommended, dtype: int64"
      ]
     },
     "execution_count": 87,
     "metadata": {},
     "output_type": "execute_result"
    }
   ],
   "source": [
    "#Least\n",
    "q = list(apppp.index)\n",
    "new_data1 = new_data1[(new_data1[\"app_name\"].isin(q))]\n",
    "new_data1.groupby([\"app_name\", \"received_for_free\"]).recommended.count()"
   ]
  },
  {
   "cell_type": "markdown",
   "metadata": {},
   "source": [
    "# RQ 3"
   ]
  },
  {
   "cell_type": "code",
   "execution_count": null,
   "metadata": {},
   "outputs": [],
   "source": []
  },
  {
   "cell_type": "code",
   "execution_count": 100,
   "metadata": {},
   "outputs": [],
   "source": [
    "def funzione(lista):\n",
    "    lista = [datetime.strptime(t, '%H:%M:%S') for t in lista]\n",
    "    sec_1 = []\n",
    "    min_1 = []\n",
    "    ora_1 = []\n",
    "    number_review = []\n",
    "    for i in range(len(lista)):\n",
    "        sec_1.append(lista[i].time().second)\n",
    "        min_1.append(lista[i].time().minute)\n",
    "        ora_1.append(lista[i].time().hour)\n",
    "    for i in range(0, len(lista), 2):\n",
    "        number_review.append(dataset[(dataset.timestamp_created.dt.hour >= ora_1[i]) & (dataset.timestamp_created.dt.minute >= min_1[i]) & (dataset.timestamp_created.dt.second >= sec_1[i]) & (dataset.timestamp_created.dt.hour <= ora_1[i+1]) & (dataset.timestamp_created.dt.minute <= min_1[i+1]) & (dataset.timestamp_created.dt.second <= sec_1[i+1])].review_id.count())\n",
    "    xx = ['6am', '11am', '2pm', '5pm', '8pm', '12am', '3am']\n",
    "    plt.bar(xx, number_review, color = 'green')\n",
    "    plt.yscale('log')\n",
    "    plt.yticks([2000000, 2500000, 3000000, 3500000, 4000000])\n",
    "    plt.title('Number of review for each interval of time')\n",
    "    plt.xlabel('Intervals')\n",
    "    plt.ylabel('Number of review')\n",
    "    plt.show()\n",
    "    \n",
    "    \n",
    "    \n",
    "    "
   ]
  },
  {
   "cell_type": "code",
   "execution_count": 101,
   "metadata": {},
   "outputs": [],
   "source": [
    "intervalli = ['06:00:00', '10:59:59', '11:00:00', '13:59:59', '14:00:00', '16:59:59',\n",
    "        '17:00:00', '19:59:59', '20:00:00', '23:59:59', '00:00:00', '02:59:59', '03:00:00',\n",
    "        '05:59:59']"
   ]
  },
  {
   "cell_type": "code",
   "execution_count": 102,
   "metadata": {},
   "outputs": [
    {
     "data": {
      "image/png": "[encoded data removed]",
      "text/plain": [
       "<Figure size 432x288 with 1 Axes>"
      ]
     },
     "metadata": {
      "needs_background": "light"
     },
     "output_type": "display_data"
    }
   ],
   "source": [
    "funzione(intervalli)"
   ]
  },
  {
   "cell_type": "markdown",
   "metadata": {},
   "source": [
    "# RQ4"
   ]
  },
  {
   "cell_type": "markdown",
   "metadata": {},
   "source": [
    "### What are the top 3 languages used to review applications?"
   ]
  },
  {
   "cell_type": "markdown",
   "metadata": {},
   "source": [
    "il numero totale non coincide se conto review e non review_id questo perchè ci saranno dei nan"
   ]
  },
  {
   "cell_type": "code",
   "execution_count": 3,
   "metadata": {},
   "outputs": [
    {
     "data": {
      "text/plain": [
       "language\n",
       "english     9635437\n",
       "schinese    3764967\n",
       "russian     2348900\n",
       "Name: review_id, dtype: int64"
      ]
     },
     "execution_count": 3,
     "metadata": {},
     "output_type": "execute_result"
    }
   ],
   "source": [
    "top_languages = pd.Series(dataset.groupby(\"language\").review_id.count().sort_values(ascending=False).head(3))\n",
    "top_languages"
   ]
  },
  {
   "cell_type": "code",
   "execution_count": 10,
   "metadata": {},
   "outputs": [
    {
     "data": {
      "text/plain": [
       "['english', 'schinese', 'russian']"
      ]
     },
     "execution_count": 10,
     "metadata": {},
     "output_type": "execute_result"
    }
   ],
   "source": [
    "top_languages = list(top_languages.index)\n",
    "top_languages"
   ]
  },
  {
   "cell_type": "markdown",
   "metadata": {},
   "source": [
    "### Create a function that receives as parameters both the name of a data set and a list of languages’ names and returns a data frame filtered only with the reviews written in the provided languages."
   ]
  },
  {
   "cell_type": "code",
   "execution_count": 13,
   "metadata": {},
   "outputs": [],
   "source": [
    "def filtro(data, lingue):\n",
    "    a = pd.DataFrame(columns = dataset.columns)\n",
    "    for i in range(len(lingue)):\n",
    "        a = pd.concat([a, data[data.language == lingue[i]]])\n",
    "    return a"
   ]
  },
  {
   "cell_type": "code",
   "execution_count": 14,
   "metadata": {},
   "outputs": [],
   "source": [
    "dataset_filter = filtro(dataset, top_languages)"
   ]
  },
  {
   "cell_type": "code",
   "execution_count": 15,
   "metadata": {},
   "outputs": [
    {
     "data": {
      "text/html": [
       "<div>\n",
       "<style scoped>\n",
       "    .dataframe tbody tr th:only-of-type {\n",
       "        vertical-align: middle;\n",
       "    }\n",
       "\n",
       "    .dataframe tbody tr th {\n",
       "        vertical-align: top;\n",
       "    }\n",
       "\n",
       "    .dataframe thead th {\n",
       "        text-align: right;\n",
       "    }\n",
       "</style>\n",
       "<table border=\"1\" class=\"dataframe\">\n",
       "  <thead>\n",
       "    <tr style=\"text-align: right;\">\n",
       "      <th></th>\n",
       "      <th>Unnamed: 0</th>\n",
       "      <th>app_id</th>\n",
       "      <th>app_name</th>\n",
       "      <th>review_id</th>\n",
       "      <th>language</th>\n",
       "      <th>review</th>\n",
       "      <th>timestamp_created</th>\n",
       "      <th>timestamp_updated</th>\n",
       "      <th>recommended</th>\n",
       "      <th>votes_helpful</th>\n",
       "      <th>...</th>\n",
       "      <th>steam_purchase</th>\n",
       "      <th>received_for_free</th>\n",
       "      <th>written_during_early_access</th>\n",
       "      <th>author.steamid</th>\n",
       "      <th>author.num_games_owned</th>\n",
       "      <th>author.num_reviews</th>\n",
       "      <th>author.playtime_forever</th>\n",
       "      <th>author.playtime_last_two_weeks</th>\n",
       "      <th>author.playtime_at_review</th>\n",
       "      <th>author.last_played</th>\n",
       "    </tr>\n",
       "  </thead>\n",
       "  <tbody>\n",
       "    <tr>\n",
       "      <th>3</th>\n",
       "      <td>3</td>\n",
       "      <td>292030</td>\n",
       "      <td>The Witcher 3: Wild Hunt</td>\n",
       "      <td>85184605</td>\n",
       "      <td>english</td>\n",
       "      <td>One of the best RPG's of all time, worthy of a...</td>\n",
       "      <td>1611379970</td>\n",
       "      <td>1611379970</td>\n",
       "      <td>True</td>\n",
       "      <td>0</td>\n",
       "      <td>...</td>\n",
       "      <td>True</td>\n",
       "      <td>False</td>\n",
       "      <td>False</td>\n",
       "      <td>76561199054755373</td>\n",
       "      <td>5</td>\n",
       "      <td>3</td>\n",
       "      <td>5587.0</td>\n",
       "      <td>3200.0</td>\n",
       "      <td>5524.0</td>\n",
       "      <td>1.611384e+09</td>\n",
       "    </tr>\n",
       "    <tr>\n",
       "      <th>5</th>\n",
       "      <td>5</td>\n",
       "      <td>292030</td>\n",
       "      <td>The Witcher 3: Wild Hunt</td>\n",
       "      <td>85184171</td>\n",
       "      <td>english</td>\n",
       "      <td>good story, good graphics. lots to do.</td>\n",
       "      <td>1611379264</td>\n",
       "      <td>1611379264</td>\n",
       "      <td>True</td>\n",
       "      <td>0</td>\n",
       "      <td>...</td>\n",
       "      <td>True</td>\n",
       "      <td>False</td>\n",
       "      <td>False</td>\n",
       "      <td>76561198170193529</td>\n",
       "      <td>11</td>\n",
       "      <td>1</td>\n",
       "      <td>823.0</td>\n",
       "      <td>823.0</td>\n",
       "      <td>823.0</td>\n",
       "      <td>1.611379e+09</td>\n",
       "    </tr>\n",
       "    <tr>\n",
       "      <th>6</th>\n",
       "      <td>6</td>\n",
       "      <td>292030</td>\n",
       "      <td>The Witcher 3: Wild Hunt</td>\n",
       "      <td>85184064</td>\n",
       "      <td>english</td>\n",
       "      <td>dis gud,</td>\n",
       "      <td>1611379091</td>\n",
       "      <td>1611379091</td>\n",
       "      <td>True</td>\n",
       "      <td>0</td>\n",
       "      <td>...</td>\n",
       "      <td>True</td>\n",
       "      <td>False</td>\n",
       "      <td>False</td>\n",
       "      <td>76561198119302812</td>\n",
       "      <td>27</td>\n",
       "      <td>2</td>\n",
       "      <td>4192.0</td>\n",
       "      <td>3398.0</td>\n",
       "      <td>4192.0</td>\n",
       "      <td>1.611352e+09</td>\n",
       "    </tr>\n",
       "    <tr>\n",
       "      <th>18</th>\n",
       "      <td>18</td>\n",
       "      <td>292030</td>\n",
       "      <td>The Witcher 3: Wild Hunt</td>\n",
       "      <td>85180436</td>\n",
       "      <td>english</td>\n",
       "      <td>favorite game of all time cant wait for the Ne...</td>\n",
       "      <td>1611373086</td>\n",
       "      <td>1611373086</td>\n",
       "      <td>True</td>\n",
       "      <td>0</td>\n",
       "      <td>...</td>\n",
       "      <td>True</td>\n",
       "      <td>False</td>\n",
       "      <td>False</td>\n",
       "      <td>76561198065591528</td>\n",
       "      <td>33</td>\n",
       "      <td>1</td>\n",
       "      <td>23329.0</td>\n",
       "      <td>177.0</td>\n",
       "      <td>23329.0</td>\n",
       "      <td>1.611219e+09</td>\n",
       "    </tr>\n",
       "    <tr>\n",
       "      <th>20</th>\n",
       "      <td>20</td>\n",
       "      <td>292030</td>\n",
       "      <td>The Witcher 3: Wild Hunt</td>\n",
       "      <td>85179753</td>\n",
       "      <td>english</td>\n",
       "      <td>Why wouldn't you get this</td>\n",
       "      <td>1611371978</td>\n",
       "      <td>1611371978</td>\n",
       "      <td>True</td>\n",
       "      <td>0</td>\n",
       "      <td>...</td>\n",
       "      <td>True</td>\n",
       "      <td>False</td>\n",
       "      <td>False</td>\n",
       "      <td>76561198996835044</td>\n",
       "      <td>131</td>\n",
       "      <td>2</td>\n",
       "      <td>8557.0</td>\n",
       "      <td>2004.0</td>\n",
       "      <td>8557.0</td>\n",
       "      <td>1.611371e+09</td>\n",
       "    </tr>\n",
       "    <tr>\n",
       "      <th>...</th>\n",
       "      <td>...</td>\n",
       "      <td>...</td>\n",
       "      <td>...</td>\n",
       "      <td>...</td>\n",
       "      <td>...</td>\n",
       "      <td>...</td>\n",
       "      <td>...</td>\n",
       "      <td>...</td>\n",
       "      <td>...</td>\n",
       "      <td>...</td>\n",
       "      <td>...</td>\n",
       "      <td>...</td>\n",
       "      <td>...</td>\n",
       "      <td>...</td>\n",
       "      <td>...</td>\n",
       "      <td>...</td>\n",
       "      <td>...</td>\n",
       "      <td>...</td>\n",
       "      <td>...</td>\n",
       "      <td>...</td>\n",
       "      <td>...</td>\n",
       "    </tr>\n",
       "    <tr>\n",
       "      <th>21747303</th>\n",
       "      <td>21747308</td>\n",
       "      <td>546560</td>\n",
       "      <td>Half-Life: Alyx</td>\n",
       "      <td>65646232</td>\n",
       "      <td>russian</td>\n",
       "      <td>Играю на Oculus Quest без проводов с помощью v...</td>\n",
       "      <td>1584987806</td>\n",
       "      <td>1585146937</td>\n",
       "      <td>True</td>\n",
       "      <td>161</td>\n",
       "      <td>...</td>\n",
       "      <td>True</td>\n",
       "      <td>False</td>\n",
       "      <td>False</td>\n",
       "      <td>76561198049248207</td>\n",
       "      <td>645</td>\n",
       "      <td>56</td>\n",
       "      <td>886.0</td>\n",
       "      <td>0.0</td>\n",
       "      <td>65.0</td>\n",
       "      <td>1.610130e+09</td>\n",
       "    </tr>\n",
       "    <tr>\n",
       "      <th>21747306</th>\n",
       "      <td>21747311</td>\n",
       "      <td>546560</td>\n",
       "      <td>Half-Life: Alyx</td>\n",
       "      <td>65646184</td>\n",
       "      <td>russian</td>\n",
       "      <td>Игра десятилетия</td>\n",
       "      <td>1584987754</td>\n",
       "      <td>1584987754</td>\n",
       "      <td>True</td>\n",
       "      <td>0</td>\n",
       "      <td>...</td>\n",
       "      <td>True</td>\n",
       "      <td>False</td>\n",
       "      <td>False</td>\n",
       "      <td>76561198307009705</td>\n",
       "      <td>57</td>\n",
       "      <td>1</td>\n",
       "      <td>1450.0</td>\n",
       "      <td>0.0</td>\n",
       "      <td>48.0</td>\n",
       "      <td>1.596121e+09</td>\n",
       "    </tr>\n",
       "    <tr>\n",
       "      <th>21747325</th>\n",
       "      <td>21747330</td>\n",
       "      <td>546560</td>\n",
       "      <td>Half-Life: Alyx</td>\n",
       "      <td>65646020</td>\n",
       "      <td>russian</td>\n",
       "      <td>Красивая графика, интересный сюжет, разный вар...</td>\n",
       "      <td>1584987605</td>\n",
       "      <td>1584987605</td>\n",
       "      <td>True</td>\n",
       "      <td>0</td>\n",
       "      <td>...</td>\n",
       "      <td>True</td>\n",
       "      <td>False</td>\n",
       "      <td>False</td>\n",
       "      <td>76561197993320811</td>\n",
       "      <td>443</td>\n",
       "      <td>9</td>\n",
       "      <td>585.0</td>\n",
       "      <td>0.0</td>\n",
       "      <td>66.0</td>\n",
       "      <td>1.588512e+09</td>\n",
       "    </tr>\n",
       "    <tr>\n",
       "      <th>21747330</th>\n",
       "      <td>21747335</td>\n",
       "      <td>546560</td>\n",
       "      <td>Half-Life: Alyx</td>\n",
       "      <td>65645878</td>\n",
       "      <td>russian</td>\n",
       "      <td>Это настоящая халва, кто еще не купил шлем ВР ...</td>\n",
       "      <td>1584987450</td>\n",
       "      <td>1585163194</td>\n",
       "      <td>True</td>\n",
       "      <td>0</td>\n",
       "      <td>...</td>\n",
       "      <td>True</td>\n",
       "      <td>False</td>\n",
       "      <td>False</td>\n",
       "      <td>76561197994263612</td>\n",
       "      <td>81</td>\n",
       "      <td>4</td>\n",
       "      <td>1951.0</td>\n",
       "      <td>0.0</td>\n",
       "      <td>171.0</td>\n",
       "      <td>1.599850e+09</td>\n",
       "    </tr>\n",
       "    <tr>\n",
       "      <th>21747355</th>\n",
       "      <td>21747360</td>\n",
       "      <td>546560</td>\n",
       "      <td>Half-Life: Alyx</td>\n",
       "      <td>65645338</td>\n",
       "      <td>russian</td>\n",
       "      <td>Игра просто супер, это реально прорыв в ВР, по...</td>\n",
       "      <td>1584986914</td>\n",
       "      <td>1584986914</td>\n",
       "      <td>True</td>\n",
       "      <td>3</td>\n",
       "      <td>...</td>\n",
       "      <td>True</td>\n",
       "      <td>False</td>\n",
       "      <td>False</td>\n",
       "      <td>76561198048409355</td>\n",
       "      <td>461</td>\n",
       "      <td>25</td>\n",
       "      <td>710.0</td>\n",
       "      <td>0.0</td>\n",
       "      <td>30.0</td>\n",
       "      <td>1.592488e+09</td>\n",
       "    </tr>\n",
       "  </tbody>\n",
       "</table>\n",
       "<p>15749304 rows × 23 columns</p>\n",
       "</div>"
      ],
      "text/plain": [
       "         Unnamed: 0  app_id                  app_name review_id language  \\\n",
       "3                 3  292030  The Witcher 3: Wild Hunt  85184605  english   \n",
       "5                 5  292030  The Witcher 3: Wild Hunt  85184171  english   \n",
       "6                 6  292030  The Witcher 3: Wild Hunt  85184064  english   \n",
       "18               18  292030  The Witcher 3: Wild Hunt  85180436  english   \n",
       "20               20  292030  The Witcher 3: Wild Hunt  85179753  english   \n",
       "...             ...     ...                       ...       ...      ...   \n",
       "21747303   21747308  546560           Half-Life: Alyx  65646232  russian   \n",
       "21747306   21747311  546560           Half-Life: Alyx  65646184  russian   \n",
       "21747325   21747330  546560           Half-Life: Alyx  65646020  russian   \n",
       "21747330   21747335  546560           Half-Life: Alyx  65645878  russian   \n",
       "21747355   21747360  546560           Half-Life: Alyx  65645338  russian   \n",
       "\n",
       "                                                     review timestamp_created  \\\n",
       "3         One of the best RPG's of all time, worthy of a...        1611379970   \n",
       "5                    good story, good graphics. lots to do.        1611379264   \n",
       "6                                                  dis gud,        1611379091   \n",
       "18        favorite game of all time cant wait for the Ne...        1611373086   \n",
       "20                                Why wouldn't you get this        1611371978   \n",
       "...                                                     ...               ...   \n",
       "21747303  Играю на Oculus Quest без проводов с помощью v...        1584987806   \n",
       "21747306                                   Игра десятилетия        1584987754   \n",
       "21747325  Красивая графика, интересный сюжет, разный вар...        1584987605   \n",
       "21747330  Это настоящая халва, кто еще не купил шлем ВР ...        1584987450   \n",
       "21747355  Игра просто супер, это реально прорыв в ВР, по...        1584986914   \n",
       "\n",
       "         timestamp_updated recommended votes_helpful  ... steam_purchase  \\\n",
       "3               1611379970        True             0  ...           True   \n",
       "5               1611379264        True             0  ...           True   \n",
       "6               1611379091        True             0  ...           True   \n",
       "18              1611373086        True             0  ...           True   \n",
       "20              1611371978        True             0  ...           True   \n",
       "...                    ...         ...           ...  ...            ...   \n",
       "21747303        1585146937        True           161  ...           True   \n",
       "21747306        1584987754        True             0  ...           True   \n",
       "21747325        1584987605        True             0  ...           True   \n",
       "21747330        1585163194        True             0  ...           True   \n",
       "21747355        1584986914        True             3  ...           True   \n",
       "\n",
       "          received_for_free written_during_early_access     author.steamid  \\\n",
       "3                     False                       False  76561199054755373   \n",
       "5                     False                       False  76561198170193529   \n",
       "6                     False                       False  76561198119302812   \n",
       "18                    False                       False  76561198065591528   \n",
       "20                    False                       False  76561198996835044   \n",
       "...                     ...                         ...                ...   \n",
       "21747303              False                       False  76561198049248207   \n",
       "21747306              False                       False  76561198307009705   \n",
       "21747325              False                       False  76561197993320811   \n",
       "21747330              False                       False  76561197994263612   \n",
       "21747355              False                       False  76561198048409355   \n",
       "\n",
       "         author.num_games_owned author.num_reviews author.playtime_forever  \\\n",
       "3                             5                  3                  5587.0   \n",
       "5                            11                  1                   823.0   \n",
       "6                            27                  2                  4192.0   \n",
       "18                           33                  1                 23329.0   \n",
       "20                          131                  2                  8557.0   \n",
       "...                         ...                ...                     ...   \n",
       "21747303                    645                 56                   886.0   \n",
       "21747306                     57                  1                  1450.0   \n",
       "21747325                    443                  9                   585.0   \n",
       "21747330                     81                  4                  1951.0   \n",
       "21747355                    461                 25                   710.0   \n",
       "\n",
       "         author.playtime_last_two_weeks author.playtime_at_review  \\\n",
       "3                                3200.0                    5524.0   \n",
       "5                                 823.0                     823.0   \n",
       "6                                3398.0                    4192.0   \n",
       "18                                177.0                   23329.0   \n",
       "20                               2004.0                    8557.0   \n",
       "...                                 ...                       ...   \n",
       "21747303                            0.0                      65.0   \n",
       "21747306                            0.0                      48.0   \n",
       "21747325                            0.0                      66.0   \n",
       "21747330                            0.0                     171.0   \n",
       "21747355                            0.0                      30.0   \n",
       "\n",
       "          author.last_played  \n",
       "3               1.611384e+09  \n",
       "5               1.611379e+09  \n",
       "6               1.611352e+09  \n",
       "18              1.611219e+09  \n",
       "20              1.611371e+09  \n",
       "...                      ...  \n",
       "21747303        1.610130e+09  \n",
       "21747306        1.596121e+09  \n",
       "21747325        1.588512e+09  \n",
       "21747330        1.599850e+09  \n",
       "21747355        1.592488e+09  \n",
       "\n",
       "[15749304 rows x 23 columns]"
      ]
     },
     "execution_count": 15,
     "metadata": {},
     "output_type": "execute_result"
    }
   ],
   "source": [
    "dataset_filter"
   ]
  },
  {
   "cell_type": "markdown",
   "metadata": {},
   "source": [
    "### Use the function created in the previous literal to find what percentage of these reviews (associated with the top 3 languages) were voted as funny?"
   ]
  },
  {
   "cell_type": "markdown",
   "metadata": {},
   "source": [
    "trovo le percentuali di recensioni trovate divertenti per ogni lingua tipo fra quelle scritte in inglese ce ne sono l' 11.27 %. poi scrivi bene risultato"
   ]
  },
  {
   "cell_type": "code",
   "execution_count": 16,
   "metadata": {},
   "outputs": [
    {
     "data": {
      "text/plain": [
       "[11.27, 11.82, 16.68]"
      ]
     },
     "execution_count": 16,
     "metadata": {},
     "output_type": "execute_result"
    }
   ],
   "source": [
    "numeratore = []\n",
    "denominatore = []\n",
    "rapporto = []\n",
    "for i in range(len(top_languages)):\n",
    "    numeratore.append(dataset_filter[(dataset_filter.votes_funny != 0) & (dataset_filter.language == top_languages[i])].votes_funny.count())\n",
    "    denominatore.append(dataset_filter[dataset_filter.language == top_languages[i]].votes_funny.count())\n",
    "    rapporto.append(round((numeratore[i]/denominatore[i])*100, 2))\n",
    "\n",
    "rapporto"
   ]
  },
  {
   "cell_type": "markdown",
   "metadata": {},
   "source": [
    "mi dà la percentuale di quanti reviews sono state trovate divertenti fra tutte e tre le lingue"
   ]
  },
  {
   "cell_type": "code",
   "execution_count": 18,
   "metadata": {},
   "outputs": [
    {
     "data": {
      "text/plain": [
       "12.21"
      ]
     },
     "execution_count": 18,
     "metadata": {},
     "output_type": "execute_result"
    }
   ],
   "source": [
    "num = dataset_filter[dataset_filter.votes_funny != 0].votes_funny.count()\n",
    "den = dataset_filter.votes_funny.count()\n",
    "round((num/den)*100, 2)"
   ]
  },
  {
   "cell_type": "code",
   "execution_count": 20,
   "metadata": {},
   "outputs": [
    {
     "data": {
      "text/plain": [
       "1922726"
      ]
     },
     "execution_count": 20,
     "metadata": {},
     "output_type": "execute_result"
    }
   ],
   "source": [
    "#num = i vari elementi di numeratori"
   ]
  },
  {
   "cell_type": "code",
   "execution_count": 21,
   "metadata": {},
   "outputs": [
    {
     "data": {
      "text/plain": [
       "[1085997, 444945, 391784]"
      ]
     },
     "execution_count": 21,
     "metadata": {},
     "output_type": "execute_result"
    }
   ],
   "source": [
    "numeratore\n"
   ]
  },
  {
   "cell_type": "code",
   "execution_count": 22,
   "metadata": {},
   "outputs": [
    {
     "data": {
      "text/plain": [
       "15749304"
      ]
     },
     "execution_count": 22,
     "metadata": {},
     "output_type": "execute_result"
    }
   ],
   "source": [
    "den"
   ]
  },
  {
   "cell_type": "markdown",
   "metadata": {},
   "source": [
    "### Use the function created in the literal “a” to find what percentage of these reviews (associated with the top 3 languages) were voted as helpful?"
   ]
  },
  {
   "cell_type": "code",
   "execution_count": 23,
   "metadata": {},
   "outputs": [
    {
     "data": {
      "text/plain": [
       "[29.2, 25.1, 35.5]"
      ]
     },
     "execution_count": 23,
     "metadata": {},
     "output_type": "execute_result"
    }
   ],
   "source": [
    "numeratore = []\n",
    "denominatore = []\n",
    "rapporto = []\n",
    "for i in range(len(top_languages)):\n",
    "    numeratore.append(dataset_filter[(dataset_filter.votes_helpful != 0) & (dataset_filter.language == top_languages[i])].votes_helpful.count())\n",
    "    denominatore.append(dataset_filter[dataset_filter.language == top_languages[i]].votes_helpful.count())\n",
    "    rapporto.append(round((numeratore[i]/denominatore[i])*100, 2))\n",
    "\n",
    "rapporto"
   ]
  },
  {
   "cell_type": "code",
   "execution_count": 24,
   "metadata": {},
   "outputs": [
    {
     "data": {
      "text/plain": [
       "29.16"
      ]
     },
     "execution_count": 24,
     "metadata": {},
     "output_type": "execute_result"
    }
   ],
   "source": [
    "num = dataset_filter[dataset_filter.votes_helpful != 0].votes_helpful.count()\n",
    "den = dataset_filter.votes_helpful.count()\n",
    "round((num/den)*100, 2)"
   ]
  },
  {
   "cell_type": "code",
   "execution_count": 25,
   "metadata": {},
   "outputs": [
    {
     "data": {
      "text/plain": [
       "[2813873, 945157, 833896]"
      ]
     },
     "execution_count": 25,
     "metadata": {},
     "output_type": "execute_result"
    }
   ],
   "source": [
    "numeratore"
   ]
  },
  {
   "cell_type": "code",
   "execution_count": 26,
   "metadata": {},
   "outputs": [
    {
     "data": {
      "text/plain": [
       "4592926"
      ]
     },
     "execution_count": 26,
     "metadata": {},
     "output_type": "execute_result"
    }
   ],
   "source": [
    "num"
   ]
  },
  {
   "cell_type": "markdown",
   "metadata": {},
   "source": [
    "# RQ6 da capi se è giusto\n"
   ]
  },
  {
   "cell_type": "code",
   "execution_count": 5,
   "metadata": {},
   "outputs": [],
   "source": [
    "dataset['Difference_Days'] = (dataset['timestamp_updated'] - dataset['timestamp_created'])"
   ]
  },
  {
   "cell_type": "markdown",
   "metadata": {},
   "source": [
    "in sta colonna c'è la differenza in minuti"
   ]
  },
  {
   "cell_type": "code",
   "execution_count": 6,
   "metadata": {},
   "outputs": [],
   "source": [
    "dataset['Difference_Days'] = dataset['Difference_Days']/np.timedelta64(1,'D')\n",
    "\n"
   ]
  },
  {
   "cell_type": "markdown",
   "metadata": {},
   "source": [
    "elimino chi non ha aggiornato la propria review, non lo ritengo utile considerare chi se ne è sbattuto di aggiornare. poi per convertire la parte decimale dei giorni in minuti devo moltiplicare il decimale per 1440 perchè in un giorno ci sono 1440 minuti"
   ]
  },
  {
   "cell_type": "code",
   "execution_count": 64,
   "metadata": {},
   "outputs": [],
   "source": [
    "dataset_1 = dataset[dataset.Difference_Days != 0]\n",
    "average = dataset_1.Difference_Days.mean()\n",
    "minutes = round((average % 1) * 1440, 0)\n",
    "days = average // 1"
   ]
  },
  {
   "cell_type": "code",
   "execution_count": 65,
   "metadata": {},
   "outputs": [
    {
     "data": {
      "text/plain": [
       "46.0"
      ]
     },
     "execution_count": 65,
     "metadata": {},
     "output_type": "execute_result"
    }
   ],
   "source": [
    "minutes"
   ]
  },
  {
   "cell_type": "code",
   "execution_count": 66,
   "metadata": {},
   "outputs": [
    {
     "data": {
      "text/plain": [
       "321.0"
      ]
     },
     "execution_count": 66,
     "metadata": {},
     "output_type": "execute_result"
    }
   ],
   "source": [
    "days"
   ]
  },
  {
   "cell_type": "code",
   "execution_count": 103,
   "metadata": {},
   "outputs": [],
   "source": [
    "a = pd.Series(dataset_1.groupby('author.steamid').review_id.count().sort_values(ascending=False).head(3))"
   ]
  },
  {
   "cell_type": "code",
   "execution_count": 132,
   "metadata": {},
   "outputs": [
    {
     "data": {
      "image/png": "[encoded data removed]",
      "text/plain": [
       "<Figure size 864x576 with 1 Axes>"
      ]
     },
     "metadata": {
      "needs_background": "light"
     },
     "output_type": "display_data"
    }
   ],
   "source": [
    "plt.figure(figsize=(12, 8))\n",
    "ax = a.plot(kind=\"bar\", color = [\"orchid\", \"orange\", \"green\"], alpha=0.75, rot=0)\n",
    "ax.set_title(\"TOP 3 authors that have updated more reviews\")\n",
    "ax.set_xlabel(\"Steam ID\")\n",
    "ax.set_ylabel(\"Number of reviews updated\")\n",
    "labels = list(a.values)\n",
    "for rect, label in zip(rects, labels):\n",
    "    height = rect.get_height()\n",
    "    ax.text(\n",
    "        rect.get_x() + rect.get_width() / 2, height + 1, label, ha=\"center\", va=\"bottom\"\n",
    "    )"
   ]
  },
  {
   "cell_type": "markdown",
   "metadata": {},
   "source": [
    "# RQ7\n"
   ]
  },
  {
   "cell_type": "markdown",
   "metadata": {},
   "source": [
    "### What’s the probability that a review has a Weighted Vote Score equal to or bigger than 0.5"
   ]
  },
  {
   "cell_type": "code",
   "execution_count": 18,
   "metadata": {},
   "outputs": [],
   "source": [
    "casi_fav = dataset[dataset.weighted_vote_score >= 0.5].weighted_vote_score.count()"
   ]
  },
  {
   "cell_type": "code",
   "execution_count": 19,
   "metadata": {},
   "outputs": [
    {
     "data": {
      "text/plain": [
       "4784092"
      ]
     },
     "execution_count": 19,
     "metadata": {},
     "output_type": "execute_result"
    }
   ],
   "source": [
    "casi_fav"
   ]
  },
  {
   "cell_type": "code",
   "execution_count": 10,
   "metadata": {},
   "outputs": [],
   "source": [
    "casi_tot = dataset.weighted_vote_score.count()"
   ]
  },
  {
   "cell_type": "code",
   "execution_count": 11,
   "metadata": {},
   "outputs": [
    {
     "data": {
      "text/plain": [
       "0.21998484322541792"
      ]
     },
     "execution_count": 11,
     "metadata": {},
     "output_type": "execute_result"
    }
   ],
   "source": [
    "casi_fav/casi_tot"
   ]
  },
  {
   "cell_type": "markdown",
   "metadata": {},
   "source": [
    "What’s the probability that a review has at least one vote as funny given that the Weighted Vote Score is bigger than 0.5?"
   ]
  },
  {
   "cell_type": "code",
   "execution_count": 31,
   "metadata": {},
   "outputs": [],
   "source": [
    "dataset_prob = dataset[dataset.weighted_vote_score > 0.5]"
   ]
  },
  {
   "cell_type": "code",
   "execution_count": 36,
   "metadata": {},
   "outputs": [],
   "source": [
    "casi_fav_2 = dataset_prob[dataset_prob.votes_funny != 0].votes_funny.count()"
   ]
  },
  {
   "cell_type": "code",
   "execution_count": 37,
   "metadata": {},
   "outputs": [
    {
     "data": {
      "text/plain": [
       "1159977"
      ]
     },
     "execution_count": 37,
     "metadata": {},
     "output_type": "execute_result"
    }
   ],
   "source": [
    "casi_fav_2"
   ]
  },
  {
   "cell_type": "code",
   "execution_count": 33,
   "metadata": {},
   "outputs": [
    {
     "data": {
      "text/plain": [
       "0.24246544589861566"
      ]
     },
     "execution_count": 33,
     "metadata": {},
     "output_type": "execute_result"
    }
   ],
   "source": [
    "casi_fav_2/casi_fav"
   ]
  },
  {
   "cell_type": "markdown",
   "metadata": {},
   "source": [
    "per essere indipendenti la probabilità di 'a review has at least one vote as funny' deve essere uguale a 'probability that a review has at least one vote as funny given that the Weighted Vote Score is bigger than 0.5' perchè in questo modo il condizionamento della probabilità è inutile dato che sono indipendenti"
   ]
  },
  {
   "cell_type": "code",
   "execution_count": 38,
   "metadata": {},
   "outputs": [],
   "source": [
    "casi_fav_3 = dataset[dataset.votes_funny != 0].votes_funny.count()\n"
   ]
  },
  {
   "cell_type": "code",
   "execution_count": 39,
   "metadata": {},
   "outputs": [
    {
     "data": {
      "text/plain": [
       "0.1196959393390585"
      ]
     },
     "execution_count": 39,
     "metadata": {},
     "output_type": "execute_result"
    }
   ],
   "source": [
    "casi_fav_3/casi_tot"
   ]
  },
  {
   "cell_type": "markdown",
   "metadata": {},
   "source": [
    "0.11969 è diverso da 0.2424 quindi sono dipendenti"
   ]
  },
  {
   "cell_type": "code",
   "execution_count": null,
   "metadata": {},
   "outputs": [],
   "source": []
  }
 ],
 "metadata": {
  "kernelspec": {
   "display_name": "Python 3",
   "language": "python",
   "name": "python3"
  },
  "language_info": {
   "codemirror_mode": {
    "name": "ipython",
    "version": 3
   },
   "file_extension": ".py",
   "mimetype": "text/x-python",
   "name": "python",
   "nbconvert_exporter": "python",
   "pygments_lexer": "ipython3",
   "version": "3.8.3"
  }
 },
 "nbformat": 4,
 "nbformat_minor": 4
}
