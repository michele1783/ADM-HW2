{
 "nbformat": 4,
 "nbformat_minor": 0,
 "metadata": {
  "kernelspec": {
   "display_name": "Python 3",
   "language": "python",
   "name": "python3"
  },
  "language_info": {
   "codemirror_mode": {
    "name": "ipython",
    "version": 3
   },
   "file_extension": ".py",
   "mimetype": "text/x-python",
   "name": "python",
   "nbconvert_exporter": "python",
   "pygments_lexer": "ipython3",
   "version": "3.8.3"
  },
  "colab": {
   "name": "Homework_2.ipynb",
   "provenance": []
  }
 },
 "cells": [
  {
   "cell_type": "code",
   "execution_count": null,
   "outputs": [],
   "source": [
    "import pandas as pd\n",
    "import matplotlib.pyplot as plt\n",
    "import numpy as np\n",
    "import math\n",
    "import seaborn as sns\n",
    "from datetime import datetime\n",
    "from functools import reduce\n",
    "from collections import Counter\n",
    "import functions"
   ],
   "metadata": {
    "collapsed": false,
    "pycharm": {
     "name": "#%%\n"
    }
   }
  },
  {
   "cell_type": "markdown",
   "source": [
    "# Load the dataset\n",
    "we load our dataset and using the function **parsedate** we have changed the format of our timestamp"
   ],
   "metadata": {
    "collapsed": false
   }
  },
  {
   "cell_type": "code",
   "execution_count": null,
   "outputs": [],
   "source": [
    "dataset = pd.read_csv('steam_reviews.csv',\n",
    "                      index_col=0,\n",
    "                      parse_dates=['timestamp_created', 'timestamp_updated', 'author.last_played'],\n",
    "                      date_parser=functions.parsedate)"
   ],
   "metadata": {
    "collapsed": false,
    "pycharm": {
     "name": "#%%\n"
    }
   }
  },
  {
   "cell_type": "code",
   "execution_count": null,
   "outputs": [],
   "source": [
    "dataset.head(20)"
   ],
   "metadata": {
    "collapsed": false,
    "pycharm": {
     "name": "#%%\n"
    }
   }
  },
  {
   "cell_type": "code",
   "execution_count": null,
   "outputs": [],
   "source": [
    "dataset.columns"
   ],
   "metadata": {
    "collapsed": false,
    "pycharm": {
     "name": "#%%\n"
    }
   }
  },
  {
   "cell_type": "code",
   "execution_count": null,
   "outputs": [],
   "source": [
    "dataset.shape"
   ],
   "metadata": {
    "collapsed": false,
    "pycharm": {
     "name": "#%%\n"
    }
   }
  },
  {
   "cell_type": "code",
   "execution_count": null,
   "outputs": [],
   "source": [
    "dataset.info()"
   ],
   "metadata": {
    "collapsed": false,
    "pycharm": {
     "name": "#%%\n"
    }
   }
  },
  {
   "cell_type": "markdown",
   "source": [
    "# RQ1"
   ],
   "metadata": {
    "collapsed": false
   }
  },
  {
   "cell_type": "markdown",
   "source": [
    "###  Exploratory Data Analysis (EDA)\n",
    "\n",
    "To try to better understand our dataset we have made a bunch of plots and tables in which we have tried to catch some information about these reviews received for the applications in Steam."
   ],
   "metadata": {
    "collapsed": false
   }
  },
  {
   "cell_type": "code",
   "execution_count": null,
   "outputs": [],
   "source": [
    "dataset.describe()"
   ],
   "metadata": {
    "collapsed": false,
    "pycharm": {
     "name": "#%%\n"
    }
   }
  },
  {
   "cell_type": "markdown",
   "source": [
    "#### Application more reviewed: \n",
    "To start our analysis we have made a pie chart about applications more reviewed. In particular we have decided to pick the first thirty games more reviewed and understand how the number of rewiews is splitted between them. Indeed the percentage written in the slices of the pie plot is referred not to the total number of reviews but the to the sum of reviews written for these thirty more popular games. The choice of thirty is due to make cleaner the plot and because we are interested only in the more popular games. The most talked-about."
   ],
   "metadata": {
    "collapsed": false
   }
  },
  {
   "cell_type": "code",
   "execution_count": null,
   "outputs": [],
   "source": [
    "a = pd.Series(dataset.groupby(\"app_name\").app_id.count().sort_values(ascending=False).head(30))\n",
    "plt.rcParams['figure.figsize'] = (10, 10)\n",
    "plt.pie(a,\n",
    "        labels = a.index,\n",
    "        explode = [0.1 for value in range(0, a.index.nunique())],\n",
    "        shadow = True, autopct = '%.1f%%')\n",
    "plt.title('Application name', fontsize = 20)\n",
    "plt.axis('off')\n",
    "plt.show()"
   ],
   "metadata": {
    "collapsed": false,
    "pycharm": {
     "name": "#%%\n"
    }
   }
  },
  {
   "cell_type": "markdown",
   "source": [
    "#### Correlation matrix:\n",
    "Then we have tried to make a correlation matrix to understand if there are some variables correlated between them "
   ],
   "metadata": {
    "collapsed": false
   }
  },
  {
   "cell_type": "code",
   "execution_count": null,
   "outputs": [],
   "source": [
    "fig, ax = plt.subplots(figsize=(13,13)) \n",
    "sns.heatmap(dataset.corr(), cbar=True, annot = True, cmap='BrBG', linewidths=.3,fmt='.1g')"
   ],
   "metadata": {
    "collapsed": false,
    "pycharm": {
     "name": "#%%\n"
    }
   }
  },
  {
   "cell_type": "markdown",
   "source": [
    "We have noticed that there was not any particular correlation between columns except for the ones related to time played by the player therefore we have decided to see in depth these correlations to have clearer information about them. "
   ],
   "metadata": {
    "collapsed": false
   }
  },
  {
   "cell_type": "code",
   "execution_count": null,
   "outputs": [],
   "source": [
    "df = pd.DataFrame(dataset,columns=['author.playtime_forever','author.playtime_last_two_weeks',\\\n",
    "                                   'author.playtime_at_review'])\n",
    "corrMatrix = df.corr()\n",
    "sns.heatmap(corrMatrix, annot=True)\n",
    "plt.show()\n"
   ],
   "metadata": {
    "collapsed": false,
    "pycharm": {
     "name": "#%%\n"
    }
   }
  },
  {
   "cell_type": "markdown",
   "source": [
    "#### Time and Language:\n",
    "At this point we want to extract some information about the language of the reviews and time when they were written. We have divided the day in three parts: morning (8am-2pm), afternoon (2pm-10pm) and night (10pm-8am). \n",
    "So for each part of the day we have grouped the reviews by language, counted them and picked the ten languages more popular.\n",
    "\n",
    "In this way in our final barplot for each popular language we have the number of reviews written in each part of the day. We have also made a table to explain better the number obtained. "
   ],
   "metadata": {
    "collapsed": false
   }
  },
  {
   "cell_type": "code",
   "execution_count": null,
   "outputs": [],
   "source": [
    "arr_1 = dataset['timestamp_created'].dt.time"
   ],
   "metadata": {
    "collapsed": false,
    "pycharm": {
     "name": "#%%\n"
    }
   }
  },
  {
   "cell_type": "code",
   "execution_count": null,
   "outputs": [],
   "source": [
    "time_1 = [datetime.strptime('08:00:00', '%H:%M:%S').time(),\n",
    "          datetime.strptime('13:59:59', '%H:%M:%S').time()]\n",
    "index_1 = [x for x in arr_1.index if (time_1[0] <= arr_1[x] <= time_1[1])]"
   ],
   "metadata": {
    "collapsed": false,
    "pycharm": {
     "name": "#%%\n"
    }
   }
  },
  {
   "cell_type": "code",
   "execution_count": null,
   "outputs": [],
   "source": [
    "time_2 = [datetime.strptime('14:00:00', '%H:%M:%S').time(),\n",
    "          datetime.strptime('21:59:59', '%H:%M:%S').time()]\n",
    "index_2 = [x for x in arr_1.index if (time_2[0] <= arr_1[x] <= time_2[1])]"
   ],
   "metadata": {
    "collapsed": false,
    "pycharm": {
     "name": "#%%\n"
    }
   }
  },
  {
   "cell_type": "code",
   "execution_count": null,
   "outputs": [],
   "source": [
    "time_3 = [datetime.strptime('22:00:00', '%H:%M:%S').time(),\n",
    "          datetime.strptime('23:59:59', '%H:%M:%S').time(),\n",
    "          datetime.strptime('00:00:00', '%H:%M:%S').time(),\n",
    "          datetime.strptime('07:59:59', '%H:%M:%S').time()]\n",
    "index_3 = [x for x in arr_1.index\n",
    "           if ((time_3[0] <= arr_1[x] <= time_3[1]) or\n",
    "               (time_3[2] <= arr_1[x] <= time_3[3]))]"
   ],
   "metadata": {
    "collapsed": false,
    "pycharm": {
     "name": "#%%\n"
    }
   }
  },
  {
   "cell_type": "code",
   "execution_count": null,
   "outputs": [],
   "source": [
    "# counting occurrences in the languages\n",
    "mat1 = Counter((dataset['language'][index_1]).tolist())\n",
    "pom1 = Counter((dataset['language'][index_2]).tolist())\n",
    "not1 = Counter((dataset['language'][index_3]).tolist())"
   ],
   "metadata": {
    "collapsed": false,
    "pycharm": {
     "name": "#%%\n"
    }
   }
  },
  {
   "cell_type": "code",
   "execution_count": null,
   "outputs": [],
   "source": [
    "# sorting the occurrences\n",
    "mat2 = {k: v for k, v in sorted(mat1.items(), key=lambda item: item[1], reverse=True)}\n",
    "pom2 = {k: v for k, v in sorted(pom1.items(), key=lambda item: item[1], reverse=True)}\n",
    "not2 = {k: v for k, v in sorted(not1.items(), key=lambda item: item[1], reverse=True)}"
   ],
   "metadata": {
    "collapsed": false,
    "pycharm": {
     "name": "#%%\n"
    }
   }
  },
  {
   "cell_type": "code",
   "execution_count": null,
   "outputs": [],
   "source": [
    "# taking only the first 10 languages, that happens to be the same for every time slot\n",
    "mattina = list(mat2.items())[:10]\n",
    "pomeriggio = list(pom2.items())[:10]\n",
    "notte = list(not2.items())[:10]"
   ],
   "metadata": {
    "collapsed": false,
    "pycharm": {
     "name": "#%%\n"
    }
   }
  },
  {
   "cell_type": "code",
   "execution_count": null,
   "outputs": [],
   "source": [
    "# creating a dataframe with timeslots as cols and languages as indexes\n",
    "df = pd.DataFrame(index=list(mat2.keys())[:10], columns=['8am-2pm', '2pm-10pm', '10pm-8am'])\n",
    "df"
   ],
   "metadata": {
    "collapsed": false,
    "pycharm": {
     "name": "#%%\n"
    }
   }
  },
  {
   "cell_type": "code",
   "execution_count": null,
   "outputs": [],
   "source": [
    "# adding the values in the dataframe\n",
    "for (couple1, couple2, couple3) in zip(mattina, pomeriggio, notte):\n",
    "    df['8am-2pm'][couple1[0]] = couple1[1]\n",
    "    df['2pm-10pm'][couple2[0]] = couple2[1]\n",
    "    df['10pm-8am'][couple3[0]] = couple3[1]"
   ],
   "metadata": {
    "collapsed": false,
    "pycharm": {
     "name": "#%%\n"
    }
   }
  },
  {
   "cell_type": "code",
   "execution_count": null,
   "outputs": [],
   "source": [
    "df.index.name = 'language'"
   ],
   "metadata": {
    "collapsed": false,
    "pycharm": {
     "name": "#%%\n"
    }
   }
  },
  {
   "cell_type": "code",
   "execution_count": null,
   "outputs": [],
   "source": [
    "ax = df.plot(y=[\"8am-2pm\", \"2pm-10pm\", \"10pm-8am\"], kind=\"bar\")\n",
    "ax.set_yscale('log')\n",
    "ax.set_xlabel('languages')\n",
    "ax.set_ylabel(\"number reviews\")"
   ],
   "metadata": {
    "collapsed": false,
    "pycharm": {
     "name": "#%%\n"
    }
   }
  },
  {
   "cell_type": "markdown",
   "source": [
    "In this stacked barplot we can see that the majority of the reviews are written during the afternoon while during the night fewer people usually write on Steam. The language more used as expected is English"
   ],
   "metadata": {
    "collapsed": false
   }
  },
  {
   "cell_type": "markdown",
   "source": [
    "#### Viral Comments:\n",
    "In this table we have wanted to look at the ten reviews which have received more comments because we have thought that it could be interesting look at them to understand which comments are popular on Steam. "
   ],
   "metadata": {
    "collapsed": false
   }
  },
  {
   "cell_type": "code",
   "execution_count": null,
   "outputs": [],
   "source": [
    "dataset_7 = dataset.sort_values(by=['comment_count'], ascending = False)\n",
    "dataset_7 = dataset_7.reset_index()"
   ],
   "metadata": {
    "collapsed": false,
    "pycharm": {
     "name": "#%%\n"
    }
   }
  },
  {
   "cell_type": "code",
   "execution_count": null,
   "outputs": [],
   "source": [
    "dataset_7[[\"author.steamid\", \"language\", \"review\", \"comment_count\"]].head(10)"
   ],
   "metadata": {
    "collapsed": false,
    "pycharm": {
     "name": "#%%\n"
    }
   }
  },
  {
   "cell_type": "markdown",
   "source": [
    "Unfortunately the majority of them are written not in english!"
   ],
   "metadata": {
    "collapsed": false
   }
  },
  {
   "cell_type": "markdown",
   "source": [
    "#### Games more played:\n",
    "In our dataset there is a column in which is stored the time played by that player to that particular game. So we have decided to explore what are the games more played in terms of hours. We have decided to pick the top 20 games because we have thought that 20 is a good trade-off between a clear plot and a meaningful number of games. "
   ],
   "metadata": {
    "collapsed": false
   }
  },
  {
   "cell_type": "code",
   "execution_count": null,
   "outputs": [],
   "source": [
    "#dataset_8 = dataset_8[[\"author.steamid\", \"author.playtime_forever\",\"app_name\"]]\n",
    "dataset_8 = pd.Series(dataset.groupby(\"app_name\")[\"author.playtime_forever\"].sum().sort_values(ascending=False))\n",
    "ore_di_gioco = dataset_8.values\n",
    "giochi = dataset_8.index"
   ],
   "metadata": {
    "collapsed": false,
    "pycharm": {
     "name": "#%%\n"
    }
   }
  },
  {
   "cell_type": "code",
   "execution_count": null,
   "outputs": [],
   "source": [
    "plt.figure(figsize = ((15, 8)))\n",
    "sns.barplot(x = ore_di_gioco[:20], \n",
    "            y = giochi[:20], orient = 'h')\n",
    "plt.title('TOP 20 games more played in terms of hours', size = 20)\n",
    "plt.ylabel('Games', size = 14, style = 'italic')\n",
    "plt.xlabel('Number of hours', size = 14, style = 'italic')\n",
    "#plt.xscale('log')\n",
    "plt.xticks(np.arange(1000000000,60000000000,2000000000)) \n",
    "plt.show()"
   ],
   "metadata": {
    "collapsed": false,
    "pycharm": {
     "name": "#%%\n"
    }
   }
  },
  {
   "cell_type": "markdown",
   "source": [
    "In this barplot we have found some confirms: the games more played are also often the games more reviewed that were appeared in the pie chart."
   ],
   "metadata": {
    "collapsed": false
   }
  },
  {
   "cell_type": "markdown",
   "source": [
    "#### Active players:\n",
    "To conclude this first analysis we have tried to understand what are the players more useful for Steam: we have selected the ten authors that have written the most number of helpful and funny reviews. "
   ],
   "metadata": {
    "collapsed": false
   }
  },
  {
   "cell_type": "code",
   "execution_count": null,
   "outputs": [],
   "source": [
    "dataset_9 = pd.Series(dataset[(dataset.votes_helpful > 0)].groupby(\"author.steamid\").votes_helpful.count().sort_values(ascending=False))\n",
    "\n",
    "dataset_10 = pd.Series(dataset[(dataset.votes_funny > 0)].groupby(\"author.steamid\").votes_funny.count().sort_values(ascending=False))"
   ],
   "metadata": {
    "collapsed": false,
    "pycharm": {
     "name": "#%%\n"
    }
   }
  },
  {
   "cell_type": "code",
   "execution_count": null,
   "outputs": [],
   "source": [
    "pd.concat([dataset_9[:11], dataset_10[:11]], axis=1).reset_index().fillna(0).sort_values(by=['votes_helpful'],ascending=False).reset_index(drop = True)"
   ],
   "metadata": {
    "collapsed": false,
    "pycharm": {
     "name": "#%%\n"
    }
   }
  },
  {
   "cell_type": "markdown",
   "source": [
    "It's interesting to see that the authors who have written some funny reviews have also written helpful reviews. "
   ],
   "metadata": {
    "collapsed": false
   }
  },
  {
   "cell_type": "markdown",
   "source": [
    "#### Languages and subplots"
   ],
   "metadata": {
    "collapsed": false
   }
  },
  {
   "cell_type": "code",
   "execution_count": null,
   "outputs": [],
   "source": [
    "print(\"The total number of languages used to write reviews is \",'\\033[1m' +str(len(dataset[\"language\"].unique())) +'\\033[0m')"
   ],
   "metadata": {
    "collapsed": false,
    "pycharm": {
     "name": "#%%\n"
    }
   }
  },
  {
   "cell_type": "markdown",
   "source": [
    "Making a subplot we have been able to visualize all the present languages in the dataset and counting the number of reviews. The two subplots have different measure in y-scales!"
   ],
   "metadata": {
    "collapsed": false
   }
  },
  {
   "cell_type": "code",
   "execution_count": null,
   "outputs": [],
   "source": [
    "fig=plt.figure(figsize=(25,18))\n",
    "ax1=fig.add_subplot(2,1,1)\n",
    "dataset['language'].value_counts().head(10).plot.bar(figsize = (18, 10),title='Top Languages',xlabel='Language',ylabel='Number of Reviews', ax = ax1,rot=0, logy = True, color = \"orange\")\n",
    "ax2=fig.add_subplot(2,1,2)\n",
    "dataset['language'].value_counts().iloc[-18:].plot.bar(figsize = (18, 10),title='Other Languages',xlabel='Language',ylabel='Number of Reviews', ax = ax2,rot=0, color = \"orchid\")\n",
    "fig.tight_layout();\n",
    "\n",
    "#dataset['language'].value_counts().plot.bar(figsize = (18, 7),title='Top Languages',xlabel='Language',ylabel='Number of Reviews', ax = ax1)"
   ],
   "metadata": {
    "collapsed": false,
    "pycharm": {
     "name": "#%%\n"
    }
   }
  },
  {
   "cell_type": "markdown",
   "source": [
    "# RQ2"
   ],
   "metadata": {
    "collapsed": false
   }
  },
  {
   "cell_type": "markdown",
   "source": [
    "### Plot the number of reviews for each application in descending order."
   ],
   "metadata": {
    "collapsed": false
   }
  },
  {
   "cell_type": "markdown",
   "source": [
    "We have decided to make a barplot in which we have counted the number of reviews for the first 50 applications. We have decided 50 because it have seemed to us a good tradeoff to have a clean representation a pick the more reviewed games"
   ],
   "metadata": {
    "collapsed": false
   }
  },
  {
   "cell_type": "code",
   "execution_count": null,
   "outputs": [],
   "source": [
    "number_review = dataset.groupby(\"app_name\").review_id.count().sort_values(ascending=False)\n",
    "number_review[0:51].plot.bar(figsize = (18, 7), title=' Number of review', xlabel='Name of application',\n",
    "ylabel='Number of review', color = \"coral\", logy = True)\n",
    "plt.show()\n"
   ],
   "metadata": {
    "collapsed": false,
    "pycharm": {
     "name": "#%%\n"
    }
   }
  },
  {
   "cell_type": "markdown",
   "source": [
    "### What applications have the best Weighted Vote Score?"
   ],
   "metadata": {
    "collapsed": false
   }
  },
  {
   "cell_type": "markdown",
   "source": [
    "Each review has a **Weighted Vote Score** that represents the helpfuness score of that review. To extract the weighted  vote score for each game we have computed the mean between all the vote for each application. In this way we have an idea about what applications have received the most helpfulness reviews. Then we have decided to select only average votes above 0.3 because we have considered it a good threshold for the best votes.   "
   ],
   "metadata": {
    "collapsed": false
   }
  },
  {
   "cell_type": "code",
   "execution_count": null,
   "outputs": [],
   "source": [
    "medie = pd.DataFrame(dataset.groupby(\"app_name\").weighted_vote_score.mean().sort_values(ascending=False))\n",
    "medie = medie[medie.values > 0.3]\n",
    "medie"
   ],
   "metadata": {
    "collapsed": false,
    "pycharm": {
     "name": "#%%\n"
    }
   }
  },
  {
   "cell_type": "markdown",
   "source": [
    "### Which applications have the most and the least recommendations"
   ],
   "metadata": {
    "collapsed": false
   }
  },
  {
   "cell_type": "code",
   "execution_count": null,
   "outputs": [],
   "source": [
    "#Most\n",
    "# recommended. group_by app_name. count all recommended,\n",
    "# count True recommended and False recommended in separate cols, and percentage of these.\n",
    "# taking only the useful cols\n",
    "new_data = dataset[['app_name', 'recommended']]\n",
    "# count_rec col counts all recommended respectively False and True of an application\n",
    "new_data['count_rec'] = new_data.groupby(['app_name', 'recommended'], sort=False)['recommended'].transform('count')\n"
   ],
   "metadata": {
    "collapsed": false,
    "pycharm": {
     "name": "#%%\n"
    }
   }
  },
  {
   "cell_type": "code",
   "execution_count": null,
   "outputs": [],
   "source": [
    "# first 20\n",
    "new_data.head(20)"
   ],
   "metadata": {
    "collapsed": false,
    "pycharm": {
     "name": "#%%\n"
    }
   }
  },
  {
   "cell_type": "code",
   "execution_count": null,
   "outputs": [],
   "source": [
    "# all_rec col counts all recommedations, False and True together\n",
    "new_data['all_rec'] = new_data.groupby(\"app_name\", sort=False)['count_rec'].transform('count')"
   ],
   "metadata": {
    "collapsed": false,
    "pycharm": {
     "name": "#%%\n"
    }
   }
  },
  {
   "cell_type": "code",
   "execution_count": null,
   "outputs": [],
   "source": [
    "# first 20\n",
    "new_data.head(20)"
   ],
   "metadata": {
    "collapsed": false,
    "pycharm": {
     "name": "#%%\n"
    }
   }
  },
  {
   "cell_type": "code",
   "execution_count": null,
   "outputs": [],
   "source": [
    "# final dataframe which contains only the True recommendations\n",
    "# this means that we can calculate the most and the least recommended apps\n",
    "final = new_data[(new_data['recommended']==True)].drop_duplicates()"
   ],
   "metadata": {
    "collapsed": false,
    "pycharm": {
     "name": "#%%\n"
    }
   }
  },
  {
   "cell_type": "code",
   "execution_count": null,
   "outputs": [],
   "source": [
    "# first 20\n",
    "final.head(20)"
   ],
   "metadata": {
    "collapsed": false,
    "pycharm": {
     "name": "#%%\n"
    }
   }
  },
  {
   "cell_type": "code",
   "execution_count": null,
   "outputs": [],
   "source": [
    "# perc_rec calculates the percentage recommendation\n",
    "final['perc_rec'] = (final['count_rec']/final['all_rec'])*100\n",
    "# drop not useful cols\n",
    "final.drop(['recommended', 'count_rec'], axis=1, inplace=True)"
   ],
   "metadata": {
    "collapsed": false,
    "pycharm": {
     "name": "#%%\n"
    }
   }
  },
  {
   "cell_type": "code",
   "execution_count": null,
   "outputs": [],
   "source": [
    "# most recommended, first 50\n",
    "final.sort_values(by='perc_rec', ascending=False).head(50)"
   ],
   "metadata": {
    "collapsed": false,
    "pycharm": {
     "name": "#%%\n"
    }
   }
  },
  {
   "cell_type": "code",
   "execution_count": null,
   "outputs": [],
   "source": [
    "# least recommended, first 50\n",
    "final.sort_values(by='perc_rec', ascending=True).head(50)"
   ],
   "metadata": {
    "collapsed": false,
    "pycharm": {
     "name": "#%%\n"
    }
   }
  },
  {
   "cell_type": "markdown",
   "source": [
    "### How many of these applications were purchased, and how many were given for free?"
   ],
   "metadata": {
    "collapsed": false
   }
  },
  {
   "cell_type": "code",
   "execution_count": null,
   "outputs": [],
   "source": [
    "# steam_purchase\n",
    "# taking only the useful cols\n",
    "new_data1 = dataset[['app_name', 'steam_purchase']]"
   ],
   "metadata": {
    "collapsed": false,
    "pycharm": {
     "name": "#%%\n"
    }
   }
  },
  {
   "cell_type": "code",
   "execution_count": null,
   "outputs": [],
   "source": [
    "# first 20\n",
    "new_data1.head(20)"
   ],
   "metadata": {
    "collapsed": false,
    "pycharm": {
     "name": "#%%\n"
    }
   }
  },
  {
   "cell_type": "code",
   "execution_count": null,
   "outputs": [],
   "source": [
    "# same modus operandi of counting recommendation\n",
    "new_data1['count_pur'] = new_data1.groupby(['app_name', 'steam_purchase'], sort=False)['steam_purchase'].transform('count')"
   ],
   "metadata": {
    "collapsed": false,
    "pycharm": {
     "name": "#%%\n"
    }
   }
  },
  {
   "cell_type": "code",
   "execution_count": null,
   "outputs": [],
   "source": [
    "# first 20\n",
    "new_data1.head(20)"
   ],
   "metadata": {
    "collapsed": false,
    "pycharm": {
     "name": "#%%\n"
    }
   }
  },
  {
   "cell_type": "code",
   "execution_count": null,
   "outputs": [],
   "source": [
    "# taking only the ones purchased\n",
    "final1 = new_data1[(new_data1['steam_purchase']==True)].drop_duplicates()"
   ],
   "metadata": {
    "collapsed": false,
    "pycharm": {
     "name": "#%%\n"
    }
   }
  },
  {
   "cell_type": "code",
   "execution_count": null,
   "outputs": [],
   "source": [
    "# first 20\n",
    "final1.head(20)"
   ],
   "metadata": {
    "collapsed": false,
    "pycharm": {
     "name": "#%%\n"
    }
   }
  },
  {
   "cell_type": "code",
   "execution_count": null,
   "outputs": [],
   "source": [
    "# drop not useful col\n",
    "final1.drop(['steam_purchase'], axis=1, inplace=True)"
   ],
   "metadata": {
    "collapsed": false,
    "pycharm": {
     "name": "#%%\n"
    }
   }
  },
  {
   "cell_type": "code",
   "execution_count": null,
   "outputs": [],
   "source": [
    "# first 20\n",
    "final1.head(20)"
   ],
   "metadata": {
    "collapsed": false,
    "pycharm": {
     "name": "#%%\n"
    }
   }
  },
  {
   "cell_type": "code",
   "execution_count": null,
   "outputs": [],
   "source": [
    "# received_for_free\n",
    "# taking only the useful cols\n",
    "new_data2 = dataset[['app_name', 'received_for_free']]"
   ],
   "metadata": {
    "collapsed": false,
    "pycharm": {
     "name": "#%%\n"
    }
   }
  },
  {
   "cell_type": "code",
   "execution_count": null,
   "outputs": [],
   "source": [
    "# first 20\n",
    "new_data2.head(20)"
   ],
   "metadata": {
    "collapsed": false,
    "pycharm": {
     "name": "#%%\n"
    }
   }
  },
  {
   "cell_type": "code",
   "execution_count": null,
   "outputs": [],
   "source": [
    "# same modus operandi\n",
    "new_data2['count_free'] = new_data2.groupby(['app_name', 'received_for_free'], sort=False)['received_for_free'].transform('count')"
   ],
   "metadata": {
    "collapsed": false,
    "pycharm": {
     "name": "#%%\n"
    }
   }
  },
  {
   "cell_type": "code",
   "execution_count": null,
   "outputs": [],
   "source": [
    "# first 20\n",
    "new_data2.head(20)"
   ],
   "metadata": {
    "collapsed": false,
    "pycharm": {
     "name": "#%%\n"
    }
   }
  },
  {
   "cell_type": "code",
   "execution_count": null,
   "outputs": [],
   "source": [
    "# take only the ones received_for_free\n",
    "final2 = new_data2[(new_data2['received_for_free']==True)].drop_duplicates()"
   ],
   "metadata": {
    "collapsed": false,
    "pycharm": {
     "name": "#%%\n"
    }
   }
  },
  {
   "cell_type": "code",
   "execution_count": null,
   "outputs": [],
   "source": [
    "# first 20\n",
    "final2.head(20)"
   ],
   "metadata": {
    "collapsed": false,
    "pycharm": {
     "name": "#%%\n"
    }
   }
  },
  {
   "cell_type": "code",
   "execution_count": null,
   "outputs": [],
   "source": [
    "# drop not useful col\n",
    "final2.drop(['received_for_free'], axis=1, inplace=True)"
   ],
   "metadata": {
    "collapsed": false,
    "pycharm": {
     "name": "#%%\n"
    }
   }
  },
  {
   "cell_type": "code",
   "execution_count": null,
   "outputs": [],
   "source": [
    "# first 20\n",
    "final2.head(20)"
   ],
   "metadata": {
    "collapsed": false,
    "pycharm": {
     "name": "#%%\n"
    }
   }
  },
  {
   "cell_type": "code",
   "execution_count": null,
   "outputs": [],
   "source": [
    "# now it's time to calculate the final result, by doing a merge of the final dataframes\n",
    "dfs = [final, final1, final2]\n",
    "final_df = reduce(lambda  left,right: pd.merge(left,right,on=['app_name'],\n",
    "                                            how='outer'), dfs)"
   ],
   "metadata": {
    "collapsed": false,
    "pycharm": {
     "name": "#%%\n"
    }
   }
  },
  {
   "cell_type": "code",
   "execution_count": null,
   "outputs": [],
   "source": [
    "# sorting the values in descending order\n",
    "final_df.sort_values(by='perc_rec', ascending=False)"
   ],
   "metadata": {
    "collapsed": false,
    "pycharm": {
     "name": "#%%\n"
    }
   }
  },
  {
   "cell_type": "code",
   "execution_count": null,
   "outputs": [],
   "source": [
    "# taking the first 40 apps that are most recommended and displaying how many times were\n",
    "# purchased and how many times were received for free\n",
    "final_df.head(40)"
   ],
   "metadata": {
    "collapsed": false,
    "pycharm": {
     "name": "#%%\n"
    }
   }
  },
  {
   "cell_type": "markdown",
   "source": [
    "# RQ 3"
   ],
   "metadata": {
    "collapsed": false
   }
  },
  {
   "cell_type": "markdown",
   "source": [
    "### What is the most common time that authors review an application? For example, authors usually write a review at 17:44."
   ],
   "metadata": {
    "collapsed": false
   }
  },
  {
   "cell_type": "code",
   "execution_count": null,
   "outputs": [],
   "source": [
    "# first point\n",
    "# taking only the timestamp_created col\n",
    "timestamp_col = np.array(dataset[\"timestamp_created\"].dt.time.astype('str'))"
   ],
   "metadata": {
    "collapsed": false,
    "pycharm": {
     "name": "#%%\n"
    }
   }
  },
  {
   "cell_type": "code",
   "execution_count": null,
   "outputs": [],
   "source": [
    "dict_time = {}\n",
    "for time in timestamp_col:\n",
    "    # taking only hour and minute\n",
    "    new_time = time[:5]\n",
    "    if new_time not in list(dict_time.key()):\n",
    "        dict_time[new_time] = 1\n",
    "    else:\n",
    "        dict_time[new_time] += 1"
   ],
   "metadata": {
    "collapsed": false,
    "pycharm": {
     "name": "#%%\n"
    }
   }
  },
  {
   "cell_type": "code",
   "execution_count": null,
   "outputs": [],
   "source": [
    "# sorting the dictionary in descending order\n",
    "dict_time_sorted = {k: v for k, v in sorted(dict_time.items(), key=lambda item: item[1], reverse=True)}"
   ],
   "metadata": {
    "collapsed": false,
    "pycharm": {
     "name": "#%%\n"
    }
   }
  },
  {
   "cell_type": "code",
   "execution_count": null,
   "outputs": [],
   "source": [
    "# returning the most common time (without seconds)\n",
    "next(iter(dict_time_sorted))"
   ],
   "metadata": {
    "collapsed": false,
    "pycharm": {
     "name": "#%%\n"
    }
   }
  },
  {
   "cell_type": "markdown",
   "source": [
    "### Create a function that receives as a parameter a list of time intervals and returns the plot the number of reviews for each of the intervals.\n",
    "\n",
    "Using the function **orario** we can extract for a given list of time interval the number of reviews written in each time interval \n"
   ],
   "metadata": {
    "collapsed": false
   }
  },
  {
   "cell_type": "markdown",
   "source": [
    "### Use the function that you created in the previous literal to plot the number of reviews between the following time intervals:"
   ],
   "metadata": {
    "collapsed": false
   }
  },
  {
   "cell_type": "code",
   "execution_count": null,
   "outputs": [],
   "source": [
    "intervalli = ['06:00:00', '10:59:59', '11:00:00', '13:59:59', '14:00:00', '16:59:59',\n",
    "        '17:00:00', '19:59:59', '20:00:00', '23:59:59', '00:00:00', '02:59:59', '03:00:00',\n",
    "        '05:59:59']"
   ],
   "metadata": {
    "collapsed": false,
    "pycharm": {
     "name": "#%%\n"
    }
   }
  },
  {
   "cell_type": "code",
   "execution_count": null,
   "outputs": [],
   "source": [
    "functions.orario(intervalli)"
   ],
   "metadata": {
    "collapsed": false,
    "pycharm": {
     "name": "#%%\n"
    }
   }
  },
  {
   "cell_type": "markdown",
   "source": [
    "On the x-axis for each bar is indicated the starting point of the time interval. We have observed that fewer people have written reviews during the night while the majority of people have written their reviews in the first hours of the morning and in the dinner hours"
   ],
   "metadata": {
    "collapsed": false
   }
  },
  {
   "cell_type": "markdown",
   "source": [
    "# RQ4"
   ],
   "metadata": {
    "collapsed": false
   }
  },
  {
   "cell_type": "markdown",
   "source": [
    "### What are the top 3 languages used to review applications?"
   ],
   "metadata": {
    "collapsed": false
   }
  },
  {
   "cell_type": "code",
   "execution_count": null,
   "outputs": [],
   "source": [
    "top_languages = pd.DataFrame(dataset.groupby(\"language\").review_id.count().sort_values(ascending=False).head(3))\n",
    "top_languages"
   ],
   "metadata": {
    "collapsed": false,
    "pycharm": {
     "name": "#%%\n"
    }
   }
  },
  {
   "cell_type": "markdown",
   "source": [
    "As expected the majority of the reviews are written in english, chinese and russian!"
   ],
   "metadata": {
    "collapsed": false
   }
  },
  {
   "cell_type": "code",
   "execution_count": null,
   "outputs": [],
   "source": [
    "top_languages = list(top_languages.index)\n",
    "top_languages"
   ],
   "metadata": {
    "collapsed": false,
    "pycharm": {
     "name": "#%%\n"
    }
   }
  },
  {
   "cell_type": "markdown",
   "source": [
    "### Create a function that receives as parameters both the name of a data set and a list of languages’ names and returns a data frame filtered only with the reviews written in the provided languages."
   ],
   "metadata": {
    "collapsed": false
   }
  },
  {
   "cell_type": "markdown",
   "source": [
    "There we have used the function **filtro** to accomplish a dataframe where there are only reviews written in the top 3 languages"
   ],
   "metadata": {
    "collapsed": false
   }
  },
  {
   "cell_type": "code",
   "execution_count": null,
   "outputs": [],
   "source": [
    "dataset_filter = functions.filtro(dataset, top_languages)\n",
    "dataset_filter"
   ],
   "metadata": {
    "collapsed": false,
    "pycharm": {
     "name": "#%%\n"
    }
   }
  },
  {
   "cell_type": "markdown",
   "source": [
    "### Use the function created in the previous literal to find what percentage of these reviews (associated with the top 3 languages) were voted as funny?"
   ],
   "metadata": {
    "collapsed": false
   }
  },
  {
   "cell_type": "markdown",
   "source": [
    "For this request we have used the new filtered dataset and for each language we have selected the reviews that have received at least one funny vote and then we have computed the ratio between them and all the reviews written in that language.\n",
    "\n",
    "To compute this percentage we have used **dataset_filter** that is the new dataframe obtained using the previous function **filtro**"
   ],
   "metadata": {
    "collapsed": false
   }
  },
  {
   "cell_type": "code",
   "execution_count": null,
   "outputs": [],
   "source": [
    "numeratore_1 = []\n",
    "denominatore_1 = []\n",
    "rapporto_1 = []\n",
    "for i in range(len(top_languages)):\n",
    "    numeratore_1.append(dataset_filter.loc[(dataset_filter.votes_funny != 0) & (dataset_filter.language == top_languages[i])].votes_funny.count())\n",
    "    denominatore_1.append(dataset_filter[dataset_filter.language == top_languages[i]].votes_funny.count())\n",
    "    print(numeratore_1)\n",
    "    print(denominatore_1)\n",
    "    rapporto_1.append(round((numeratore_1[i]/denominatore_1[i])*100, 2))\n",
    "    print(\"The percentage of reviews written in \" + '\\033[1m' + top_languages[i] +'\\033[0m' +\n",
    "          \" that has received at least a funny vote is \" +\n",
    "          '\\033[1m' + str(rapporto_1[i]) + \"%\" + '\\033[0m')\n"
   ],
   "metadata": {
    "collapsed": false,
    "pycharm": {
     "name": "#%%\n"
    }
   }
  },
  {
   "cell_type": "markdown",
   "source": [
    "At this point we have also wanted to compute the percentage of reviews that have received at least a funny vote among all these three languages. "
   ],
   "metadata": {
    "collapsed": false
   }
  },
  {
   "cell_type": "code",
   "execution_count": null,
   "outputs": [],
   "source": [
    "\n",
    "num = dataset_filter[dataset_filter.votes_funny != 0].votes_funny.count()\n",
    "den = dataset_filter.votes_funny.count()\n",
    "print(\"The percentage of reviews written in one of the top 3 language that has received at \"\n",
    "      \"least a funny vote is \" + '\\033[1m' + str(round((num/den)*100, 2)) + \"%\" + '\\033[0m')"
   ],
   "metadata": {
    "collapsed": false,
    "pycharm": {
     "name": "#%%\n"
    }
   }
  },
  {
   "cell_type": "code",
   "execution_count": null,
   "outputs": [],
   "source": [
    "# same as above\n",
    "print(\"The percentage of reviews written in one of the top 3 language that has received at \"\n",
    "      \"least a funny vote is \" + '\\033[1m' + str(round((sum(numeratore_1)/sum(denominatore_1))*100, 2)) + \"%\" + '\\033[0m')"
   ],
   "metadata": {
    "collapsed": false,
    "pycharm": {
     "name": "#%%\n"
    }
   }
  },
  {
   "cell_type": "markdown",
   "source": [
    "### Use the function created in the literal “a” to find what percentage of these reviews (associated with the top 3 languages) were voted as helpful?"
   ],
   "metadata": {
    "collapsed": false
   }
  },
  {
   "cell_type": "markdown",
   "source": [
    "For this request we have used the new filtered dataset and for each language we have selected the reviews that have received at least one helpful vote and then we have computed the ratio between them and all the reviews written in that language.\n",
    "\n",
    "To compute this percentage we have used **dataset_filter** that is the new dataframe obtained using the previous function **filtro**"
   ],
   "metadata": {
    "collapsed": false
   }
  },
  {
   "cell_type": "code",
   "execution_count": null,
   "outputs": [],
   "source": [
    "numeratore_2 = []\n",
    "denominatore_2 = []\n",
    "rapporto_2 = []\n",
    "for i in range(len(top_languages)):\n",
    "    numeratore_2.append(dataset_filter.loc[(dataset_filter.votes_helpful != 0) & (dataset_filter.language == top_languages[i])].votes_helpful.count())\n",
    "    denominatore_2.append(dataset_filter[dataset_filter.language == top_languages[i]].votes_helpful.count())\n",
    "    rapporto_2.append(round((numeratore_2[i]/denominatore_2[i])*100, 2))\n",
    "    print(\"The percentage of reviews written in \" + '\\033[1m' + top_languages[i] + '\\033[0m' +\n",
    "          \" that has received at least a helpful vote is \" +\n",
    "          '\\033[1m' + str(rapporto_2[i]) + \"%\" + '\\033[0m')"
   ],
   "metadata": {
    "collapsed": false,
    "pycharm": {
     "name": "#%%\n"
    }
   }
  },
  {
   "cell_type": "markdown",
   "source": [
    "At this point we have also wanted to compute the percentage of reviews that have received at least a helpful vote among all these three languages."
   ],
   "metadata": {
    "collapsed": false
   }
  },
  {
   "cell_type": "code",
   "execution_count": null,
   "outputs": [],
   "source": [
    "num = dataset_filter[dataset_filter.votes_helpful != 0].votes_helpful.count()\n",
    "den = dataset_filter.votes_helpful.count()\n",
    "print(\"The percentage of reviews written in one of the top 3 language that has received at \"\n",
    "      \"least a helpful vote is \" + '\\033[1m' + str(round((num/den)*100, 2)) + \"%\" + '\\033[0m')"
   ],
   "metadata": {
    "collapsed": false,
    "pycharm": {
     "name": "#%%\n"
    }
   }
  },
  {
   "cell_type": "code",
   "execution_count": null,
   "outputs": [],
   "source": [
    "# same as above\n",
    "print(\"The percentage of reviews written in one of the top 3 language that has received at \"\n",
    "      \"least a funny vote is \" + '\\033[1m' + str(round((sum(numeratore_2)/sum(denominatore_2))*100, 2)) + \"%\" + '\\033[0m')"
   ],
   "metadata": {
    "collapsed": false,
    "pycharm": {
     "name": "#%%\n"
    }
   }
  },
  {
   "cell_type": "markdown",
   "source": [
    "# RQ5"
   ],
   "metadata": {
    "collapsed": false
   }
  },
  {
   "cell_type": "markdown",
   "source": [
    "### Plot the top 10 most popular reviewers and the number of reviews."
   ],
   "metadata": {
    "collapsed": false
   }
  },
  {
   "cell_type": "code",
   "execution_count": null,
   "outputs": [],
   "source": [
    "num_reviewers = dataset['author.steamid'].value_counts().head(10)"
   ],
   "metadata": {
    "collapsed": false,
    "pycharm": {
     "name": "#%%\n"
    }
   }
  },
  {
   "cell_type": "code",
   "execution_count": null,
   "outputs": [],
   "source": [
    "num_reviewers"
   ],
   "metadata": {
    "collapsed": false,
    "pycharm": {
     "name": "#%%\n"
    }
   }
  },
  {
   "cell_type": "code",
   "execution_count": null,
   "outputs": [],
   "source": [
    "num_reviewers.plot(kind='bar',\n",
    "                   xlabel='TOP 10 reviewers',\n",
    "                   ylabel='number of reviews')"
   ],
   "metadata": {
    "collapsed": false,
    "pycharm": {
     "name": "#%%\n"
    }
   }
  },
  {
   "cell_type": "markdown",
   "source": [
    "### What applications did the most popular author review?\n"
   ],
   "metadata": {
    "collapsed": false
   }
  },
  {
   "cell_type": "code",
   "execution_count": null,
   "outputs": [],
   "source": [
    "num_rev = pd.DataFrame({'reviewers':num_reviewers.index, 'num_reviews':num_reviewers.values})"
   ],
   "metadata": {
    "collapsed": false,
    "pycharm": {
     "name": "#%%\n"
    }
   }
  },
  {
   "cell_type": "code",
   "execution_count": null,
   "outputs": [],
   "source": [
    "pop_auth = num_rev['reviewers'][0]"
   ],
   "metadata": {
    "collapsed": false,
    "pycharm": {
     "name": "#%%\n"
    }
   }
  },
  {
   "cell_type": "code",
   "execution_count": null,
   "outputs": [],
   "source": [
    "apps_rev = dataset[dataset['author.steamid'] == pop_auth].app_name"
   ],
   "metadata": {
    "collapsed": false,
    "pycharm": {
     "name": "#%%\n"
    }
   }
  },
  {
   "cell_type": "code",
   "execution_count": null,
   "outputs": [],
   "source": [
    "app_name_rev = list(apps_rev.values)"
   ],
   "metadata": {
    "collapsed": false,
    "pycharm": {
     "name": "#%%\n"
    }
   }
  },
  {
   "cell_type": "code",
   "execution_count": null,
   "outputs": [],
   "source": [
    "app_name_rev = [el for el, count in Counter(app_name_rev).items()]"
   ],
   "metadata": {
    "collapsed": false,
    "pycharm": {
     "name": "#%%\n"
    }
   }
  },
  {
   "cell_type": "markdown",
   "source": [
    "### How many applications did he/she purchase, and how many did he/she get as free? Provide the number (count) and the percentage."
   ],
   "metadata": {
    "collapsed": false
   }
  },
  {
   "cell_type": "code",
   "execution_count": null,
   "outputs": [],
   "source": [
    "# taking only the steam_purchase and received_for_free apps of the author\n",
    "app_count = dataset[dataset['author.steamid'] == pop_auth][['steam_purchase', 'received_for_free']]"
   ],
   "metadata": {
    "collapsed": false,
    "pycharm": {
     "name": "#%%\n"
    }
   }
  },
  {
   "cell_type": "code",
   "execution_count": null,
   "outputs": [],
   "source": [
    "# how many app did the author reviewed\n",
    "tot_app_rev = len(app_count.index)\n"
   ],
   "metadata": {
    "collapsed": false,
    "pycharm": {
     "name": "#%%\n"
    }
   }
  },
  {
   "cell_type": "code",
   "execution_count": null,
   "outputs": [],
   "source": [
    "purchased = dict(Counter(app_count['steam_purchase']))\n",
    "free_apps = dict(Counter(app_count['received_for_free']))"
   ],
   "metadata": {
    "collapsed": false,
    "pycharm": {
     "name": "#%%\n"
    }
   }
  },
  {
   "cell_type": "code",
   "execution_count": null,
   "outputs": [],
   "source": [
    "purchased[True] = [purchased[True], \"{:.2%}\".format(purchased[True]/tot_app_rev)]\n",
    "purchased[False] = [purchased[False], \"{:.2%}\".format(purchased[False]/tot_app_rev)]\n",
    "free_apps[True] = [free_apps[True], \"{:.2%}\".format(free_apps[True]/tot_app_rev)]\n",
    "free_apps[False] = [free_apps[False], \"{:.2%}\".format(free_apps[False]/tot_app_rev)]"
   ],
   "metadata": {
    "collapsed": false,
    "pycharm": {
     "name": "#%%\n"
    }
   }
  },
  {
   "cell_type": "code",
   "execution_count": null,
   "outputs": [],
   "source": [
    "print(purchased)\n",
    "print(free_apps)"
   ],
   "metadata": {
    "collapsed": false,
    "pycharm": {
     "name": "#%%\n"
    }
   }
  },
  {
   "cell_type": "code",
   "execution_count": null,
   "outputs": [],
   "source": [
    "purch_df = pd.DataFrame(purchased, index=['count', 'Percentage']).T\n",
    "free_df = pd.DataFrame(free_apps, index=['count', 'Percentage']).T"
   ],
   "metadata": {
    "collapsed": false,
    "pycharm": {
     "name": "#%%\n"
    }
   }
  },
  {
   "cell_type": "code",
   "execution_count": null,
   "outputs": [],
   "source": [
    "purch_df.index.name = 'App Purchased'\n",
    "free_df.index.name = 'App given Free'"
   ],
   "metadata": {
    "collapsed": false,
    "pycharm": {
     "name": "#%%\n"
    }
   }
  },
  {
   "cell_type": "code",
   "execution_count": null,
   "outputs": [],
   "source": [
    "purch_df"
   ],
   "metadata": {
    "collapsed": false,
    "pycharm": {
     "name": "#%%\n"
    }
   }
  },
  {
   "cell_type": "code",
   "execution_count": null,
   "outputs": [],
   "source": [
    "free_df\n"
   ],
   "metadata": {
    "collapsed": false,
    "pycharm": {
     "name": "#%%\n"
    }
   }
  },
  {
   "cell_type": "markdown",
   "source": [
    "### How many of the applications he/she purchased reviewed positively, and how many negatively? How about the applications he received for free?"
   ],
   "metadata": {
    "collapsed": false
   }
  },
  {
   "cell_type": "code",
   "execution_count": null,
   "outputs": [],
   "source": [
    "# have to use the recommended col\n",
    "app_recomm = dataset.loc[(dataset['author.steamid'] == pop_auth) & (dataset['recommended'] == True)][['steam_purchase', 'received_for_free']]"
   ],
   "metadata": {
    "collapsed": false,
    "pycharm": {
     "name": "#%%\n"
    }
   }
  },
  {
   "cell_type": "code",
   "execution_count": null,
   "outputs": [],
   "source": [
    "purchased_rec = dict(Counter(app_recomm['steam_purchase']))\n",
    "free_apps_rec = dict(Counter(app_recomm['received_for_free']))\n",
    "tot_app_rec = len(app_recomm.index)"
   ],
   "metadata": {
    "collapsed": false,
    "pycharm": {
     "name": "#%%\n"
    }
   }
  },
  {
   "cell_type": "code",
   "execution_count": null,
   "outputs": [],
   "source": [
    "print('{} applications purchased were reviewed positively, and {} were reviewed negatively'\n",
    "      .format(purchased_rec[True], purchased_rec[False]))\n",
    "print('{} applications given for free were reviewed positively, and {} were reviewed negatively'\n",
    "      .format(free_apps_rec[True], free_apps_rec[False]))"
   ],
   "metadata": {
    "collapsed": false,
    "pycharm": {
     "name": "#%%\n"
    }
   }
  },
  {
   "cell_type": "markdown",
   "source": [
    "# RQ6 \n"
   ],
   "metadata": {
    "collapsed": false
   }
  },
  {
   "cell_type": "markdown",
   "source": [
    "### What is the average time (days and minutes) a user lets pass before he updates a review?"
   ],
   "metadata": {
    "collapsed": false
   }
  },
  {
   "cell_type": "markdown",
   "source": [
    "Just to start we have computed the difference between the time when the review is written and time when the review is updated and then we have transformed this difference in terms of days"
   ],
   "metadata": {
    "collapsed": false
   }
  },
  {
   "cell_type": "code",
   "execution_count": null,
   "outputs": [],
   "source": [
    "dataset['Difference_Days'] = (dataset['timestamp_updated'] - dataset['timestamp_created'])\n",
    "dataset['Difference_Days'] = dataset['Difference_Days']/np.timedelta64(1,'D')"
   ],
   "metadata": {
    "collapsed": false,
    "pycharm": {
     "name": "#%%\n"
    }
   }
  },
  {
   "cell_type": "markdown",
   "source": [
    "After that we have deleted who did not update his review because we have thought that is meaningless consider them. Then we have computed the mean between days and the integer part of this number represents the average number of days after an author updates his review. Instead to transform the decimal part in minutes we have to multiply it for 1440 because in one day there are 1440 minutes. We have made a simple proportion: *1 : 1440 = x : (decimal part of our number)*"
   ],
   "metadata": {
    "collapsed": false
   }
  },
  {
   "cell_type": "code",
   "execution_count": null,
   "outputs": [],
   "source": [
    "dataset_1 = dataset[dataset.Difference_Days != 0]\n",
    "average = dataset_1.Difference_Days.mean()\n",
    "minutes = round((average % 1) * 1440, 0)\n",
    "days = average // 1\n",
    "print(\"The average time a user lets pass before he updates a review is \"+\n",
    "      '\\033[1m' + str(days) + '\\033[0m' + \" days and \" + '\\033[1m' + str(minutes) + '\\033[0m' + \" minutes\")"
   ],
   "metadata": {
    "collapsed": false,
    "pycharm": {
     "name": "#%%\n"
    }
   }
  },
  {
   "cell_type": "markdown",
   "source": [
    "On average an author updates his review almost after a year! "
   ],
   "metadata": {
    "collapsed": false
   }
  },
  {
   "cell_type": "markdown",
   "source": [
    "### Plot the top 3 authors that usually update their reviews."
   ],
   "metadata": {
    "collapsed": false
   }
  },
  {
   "cell_type": "markdown",
   "source": [
    "We have used the dataframe **dataset_1** in which there are only the reviews that have been updated. We did not use the starting dataset because we have to extract who are the authors that usually update their reviews so authors that have updated more reviews through time."
   ],
   "metadata": {
    "collapsed": false
   }
  },
  {
   "cell_type": "code",
   "execution_count": null,
   "outputs": [],
   "source": [
    "a = pd.Series(dataset_1.groupby('author.steamid').review_id.count().sort_values(ascending=False).head(3))\n",
    "a"
   ],
   "metadata": {
    "collapsed": false,
    "pycharm": {
     "name": "#%%\n"
    }
   }
  },
  {
   "cell_type": "code",
   "execution_count": null,
   "outputs": [],
   "source": [
    "#bar plot\n",
    "plt.figure(figsize=(12, 8))\n",
    "ax = a.plot(kind=\"bar\", color = [\"orchid\", \"orange\", \"green\"], alpha=0.75, rot=0)\n",
    "ax.set_title(\"TOP 3 authors that have updated more reviews\")\n",
    "ax.set_xlabel(\"Steam ID\")\n",
    "ax.set_ylabel(\"Number of reviews updated\")\n",
    "#needed to put values on top of the bar\n",
    "for i, v in enumerate(a.values):\n",
    "    ax.text(i, v+1, str(v), color='black', fontweight='bold')"
   ],
   "metadata": {
    "collapsed": false,
    "pycharm": {
     "name": "#%%\n"
    }
   }
  },
  {
   "cell_type": "markdown",
   "source": [
    "We have put the number of reviews over the bars because the second and the third author have updated almost the same number of reviews."
   ],
   "metadata": {
    "collapsed": false
   }
  },
  {
   "cell_type": "markdown",
   "source": [
    "# RQ7"
   ],
   "metadata": {
    "collapsed": false
   }
  },
  {
   "cell_type": "markdown",
   "source": [
    "### What’s the probability that a review has a Weighted Vote Score equal to or bigger than 0.5?"
   ],
   "metadata": {
    "collapsed": false
   }
  },
  {
   "cell_type": "markdown",
   "source": [
    "We have used the definition of probability to compute these values indeed we have count the number of reviews that has a Weighted Vote Score equal to or bigger than 0.5 and this number represents the favourable case (we have stored this number in **casi_fav**)while the number of total case is represented by the number of the lines of our dataset, stored in **casi_tot**. The probability is the ratio between them. "
   ],
   "metadata": {
    "collapsed": false
   }
  },
  {
   "cell_type": "code",
   "execution_count": null,
   "outputs": [],
   "source": [
    "casi_fav = dataset[dataset.weighted_vote_score >= 0.5].weighted_vote_score.count()\n",
    "casi_fav"
   ],
   "metadata": {
    "collapsed": false,
    "pycharm": {
     "name": "#%%\n"
    }
   }
  },
  {
   "cell_type": "code",
   "execution_count": null,
   "outputs": [],
   "source": [
    "casi_tot = dataset.weighted_vote_score.count()"
   ],
   "metadata": {
    "collapsed": false,
    "pycharm": {
     "name": "#%%\n"
    }
   }
  },
  {
   "cell_type": "code",
   "execution_count": null,
   "outputs": [],
   "source": [
    "result_1 = round(casi_fav/casi_tot, 2)\n",
    "print(\"The probability is of a review has a Weighted Vote Score equal to or bigger than 0.5 is \"+ '\\033[1m' +str(result_1)+'\\033[0m')"
   ],
   "metadata": {
    "collapsed": false,
    "pycharm": {
     "name": "#%%\n"
    }
   }
  },
  {
   "cell_type": "markdown",
   "source": [
    "### What’s the probability that a review has at least one vote as funny given that the Weighted Vote Score is bigger than 0.5?"
   ],
   "metadata": {
    "collapsed": false
   }
  },
  {
   "cell_type": "markdown",
   "source": [
    "To compute this conditional probability my sample sample will be reduced indeed we have filtered the dataset in such way that we are going to look for reviews with at least one vote as funny just among reviews with Weighted Vote Score is bigger than 0.5."
   ],
   "metadata": {
    "collapsed": false
   }
  },
  {
   "cell_type": "code",
   "execution_count": null,
   "outputs": [],
   "source": [
    "dataset_prob = dataset[dataset.weighted_vote_score > 0.5]"
   ],
   "metadata": {
    "collapsed": false,
    "pycharm": {
     "name": "#%%\n"
    }
   }
  },
  {
   "cell_type": "code",
   "execution_count": null,
   "outputs": [],
   "source": [
    "casi_fav_2 = dataset_prob[dataset_prob.votes_funny != 0].votes_funny.count()"
   ],
   "metadata": {
    "collapsed": false,
    "pycharm": {
     "name": "#%%\n"
    }
   }
  },
  {
   "cell_type": "markdown",
   "source": [
    "Now our sample space in other words the total case are the favourable case used to compute the last probability, **case_fav**: number of reviews that has a Weighted Vote Score equal to or bigger than 0.5"
   ],
   "metadata": {
    "collapsed": false
   }
  },
  {
   "cell_type": "code",
   "execution_count": null,
   "outputs": [],
   "source": [
    "result_2 = round(casi_fav_2/casi_fav, 2)\n",
    "print(\"The conditional probability that a review has at least one vote as funny given that the Weighted Vote Score is bigger than 0.5 is \",'\\033[1m' +str(result_2)+'\\033[0m')"
   ],
   "metadata": {
    "collapsed": false,
    "pycharm": {
     "name": "#%%\n"
    }
   }
  },
  {
   "cell_type": "markdown",
   "source": [
    "### Is the probability that “a review has at least one vote as funny” independent of the “probability that a review has a Weighted Vote Score equal or bigger than 0."
   ],
   "metadata": {
    "collapsed": false
   }
  },
  {
   "cell_type": "markdown",
   "source": [
    "To be independent these two events it would happen that the probability of the event: *a review has at least one vote as funny* would be equal to *probability that a review has at least one vote as funny given that the Weighted Vote Score is bigger than 0.5* because in this way the conditioning of the two probability is useless given that they are independent. "
   ],
   "metadata": {
    "collapsed": false
   }
  },
  {
   "cell_type": "code",
   "execution_count": null,
   "outputs": [],
   "source": [
    "casi_fav_3 = dataset[dataset.votes_funny != 0].votes_funny.count()\n"
   ],
   "metadata": {
    "collapsed": false,
    "pycharm": {
     "name": "#%%\n"
    }
   }
  },
  {
   "cell_type": "code",
   "execution_count": null,
   "outputs": [],
   "source": [
    "result_3 = round(casi_fav_3/casi_tot,2)\n",
    "print(\"The probability of a review has at least one vote as funny is \"+ '\\033[1m' +str(result_3)+'\\033[0m')"
   ],
   "metadata": {
    "collapsed": false,
    "pycharm": {
     "name": "#%%\n"
    }
   }
  },
  {
   "cell_type": "markdown",
   "source": [
    "0.12 is different from 0.24 so these two events are **dependent!**"
   ],
   "metadata": {
    "collapsed": false
   }
  },
  {
   "cell_type": "markdown",
   "source": [
    "# $TQ_1$\n",
    "## Question 1\n",
    "As known, given a random variable $X$, the Quantile function *Q($\\cdot$)* with support $\\{ p | p \\in [0,1] \\}$ is the function that computes:\n",
    "\n",
    "\\begin{equation}\n",
    "Q(p)=s \\hspace{0.2 cm} |\\hspace{0.2 cm} \\mathcal{P}(X<=s) = p\n",
    "\\end{equation}\n",
    "\n",
    "Denoting with $A_i$ the i-th element of the vector $A$ of length $n$ and given $k \\in [0,n]$, it is possible to see that our algorithm compute:<br>\n",
    "\n",
    "\\begin{equation}\n",
    "    alg(A,k)=s \\hspace{0.2 cm} |\\hspace{0.2 cm} \\#\\{A_i<=s\\} = k\n",
    "\\end{equation}\n",
    "\n",
    "It is then easily possible to perform some trasformations over our algorithm parameters in order to obtain the similarities with the quantile function, i.e.:\n",
    "\n",
    "1. A shrinkage over our algorithm support space (i.e. $k'=k/n$);\n",
    "\n",
    "2. A shrinkage over our cardinality measure (i.e. $\\#\\{A_i<=s \\}'=\\frac{\\#\\{A_i<=s \\}}{n}$);\n",
    "\n",
    "Substituting into our $alg(A,k)$ it becomes:\n",
    "\\begin{equation}\n",
    "    alg(A,k')=s\\hspace{0.2 cm} |\\hspace{0.2 cm} \\frac{\\#\\{A_i<=s\\}}{n} = k'\n",
    "\\end{equation}\n",
    "In a frequentist approach (said $A_r$ a random sample of the vector $A$) we can equal $\\frac{\\#\\{A_i<=s\\}}{n}= \\mathcal{P}(A_r <= s)$; In words, our algorithm is computing the value $s$ so that the number of elements in the array $A$ smaller or equal to $s$ will be equal to $k$: we can so somehow define our algorithm a \"quantile function over a non-normalized support\".\n",
    "## Question 2\n",
    "Let consider the worst case scenario, i.e. imagine that $k=n$ and that at each iteration the random sample $s$ will always be equal to $A_1$: it basically means that the $s$ satisfying the condition over $k$ will be selected at the $n_{th}-1$ iteration (when the vector $A$ over which we are calling $alg()$ has lenght equal to 2), we can then assume an asymptotical complexity in the worst case scenario (removing costant therms) equal to $\\mathcal{O}(n)$.\n",
    "## Question 3\n",
    "In the best case scenario, the right $s$ will always be picked up at the first iteration, regardless of $n$=len($A$): the asymptotical complexity will then be equal to $\\mathcal{O}(1)$."
   ],
   "metadata": {
    "collapsed": false
   }
  },
  {
   "cell_type": "markdown",
   "source": [
    "# $TQ_2$\n",
    "## Question 1\n",
    "Let dive into the interpretation of the given recursive algorithm's complexity. It is clear that, given a particular $n$ and $\\forall l$, and expressing with $T(n)$ the time needed to complete the algorithm called with parameter $n$:\n",
    "\n",
    "\\begin{equation}\n",
    "    T(n) = T\\left(\\frac{n}{2}\\right)\\cdot 2 + \\left(\\frac{n}{2}+1\\right)\\cdot 3\n",
    "\\end{equation}\n",
    "\n",
    "Indeed, calling **splitSwap(a,l,n)** we will have to solve two times **splitSwap(a,l,n/2)** plus execute 3 operations for each of the $\\left(\\frac{n}{2}+1\\right)$ iterations of the for loop into **swapList(a,l,n)**. Lets compute running times after the expression of $T(n)$:\n",
    "\n",
    "\\begin{equation}\n",
    "    T\\left(\\frac{n}{2}\\right) = T\\left(\\frac{n}{2^2}\\right)\\cdot 2 + \\left(\\frac{n}{2^2}+1\\right)\\cdot 3\n",
    "\\end{equation}\n",
    "\n",
    "\\begin{equation}\n",
    "    T(n) = T\\left(\\frac{n}{2^2}\\right)\\cdot 2^2 + \\left(\\frac{n}{2^2}+1\\right)\\cdot2 \\cdot 3 +\\left(\\frac{n}{2}+1\\right)\\cdot 3\n",
    "\\end{equation}\n",
    "\n",
    "\\begin{equation}\n",
    "    T(n) = T\\left(\\frac{n}{2^2}\\right)\\cdot 2^2 + \\left(\\frac{n}{2}+1\\right)\\cdot2 \\cdot 3 +3\n",
    "\\end{equation}\n",
    "\n",
    "\\begin{equation}\n",
    "    T\\left(\\frac{n}{2^2}\\right) = T\\left(\\frac{n}{2^3}\\right)\\cdot 2 + \\left(\\frac{n}{2^3}+1\\right)\\cdot 3\n",
    "\\end{equation}\n",
    "\n",
    "\\begin{equation}\n",
    "    T(n) = T\\left(\\frac{n}{2^3}\\right)\\cdot 2^3 + \\left(\\frac{n}{2}+1\\right)\\cdot 3 \\cdot 3 +7\n",
    "\\end{equation}\n",
    "\n",
    "\\begin{equation}\n",
    "    T(n) = T\\left(\\frac{n}{2^k}\\right)\\cdot 2^k + \\left(\\frac{n}{2}+1\\right)\\cdot k \\cdot 3 +log_2(2^k)-1\n",
    "\\end{equation}\n",
    "\n",
    "Setting $2^k=n \\Leftrightarrow k =log_2(n)$ we obtain:\n",
    "\n",
    "\\begin{equation}\n",
    "    T(n) = T(1)\\cdot n + \\left(\\frac{n}{2}+1\\right)\\cdot log_2(n) \\cdot 3 +log_2(n)-1 \\simeq n\\cdot log_2(n)\n",
    "\\end{equation}\n",
    "\n",
    "In the latter we have removed the dependency from factors, constant terms and considered only the term with the biggest growth rate w.r.t $n$. We can than say that the asymptotical complexity of the algorithm is $\\mathcal{O}(n\\cdot log_2(n))$.\n",
    "\n",
    "## Question 2\n",
    "Given an array **a**, an index **l** and a number **n** (considering the scenario where both **len(a)** and **n** are power of 2 numbers), the algorithm output the array **a'** built as follows:\n",
    "\n",
    "\\begin{equation}\n",
    "    a'[i]=a[i] \\hspace{1cm}\\forall i \\in [0,1,...,l-1]\\hspace{1cm}\\mbox{if}\\hspace{1cm} l \\geq 1\n",
    "\\end{equation}\n",
    "\n",
    "\\begin{equation}\n",
    "     a'[l+i]=a[l+n-i]\n",
    "\\end{equation}\n",
    "\n",
    "In words, starting from an index **l** of the original array **a**, the algorithm is reversing the position of the first **n** elements of the array. Because of this of course it is required that **l+n** $\\leq$ **len(a)**, otherwise the subroutine **swapList()** will raise an error because of the out-of-range index it loops on. Let describe the algorithm's mechanism. Looking at the code, we can assess how the only part of the code actually changing the position of the array's elements is the subroutine **swapList()**. Given a triplet **(a,l,n)**, once **splitSwap()** is called, it will recursively call himself with an **n** halfed call by call (i.e. **n**$^{(1)}$ =**n/2**, **n**$^{(2)}$ =**n**$^{(1)}/2$, **n**$^{(3)}$ =**n**$^{(2)}/2$ and so on). As we can see in the (Fig.1), after $\\text{log}_2(n)-1$ steps, the function **splitSwap(a,l,2)** will be called: in its execution both **splitSwap(a,l,1)** and **splitSwap(a,l+1,1)** will **return** (being **n**=1), finally allowing the execution of **swaplist(a,l,2)** (that we will call **final-node-subroutine** $\\forall l$) that will exchange the position of the array's elements **a[l]** with **a[l+1]**. Being  **splitSwap(a,l,2)** completed,  **splitSwap(a,l+2,2)** will be called. Similary, at the end of the execution its **final-node-subroutine** will exchange the position of the array's elements **a[l+2]** with **a[l+3]**. Basically the **final-node-subroutines** consider the array (starting from the element $a[l]$) as a sequence of $\\frac{n}{2}$ couples of elements and in each couple they exchange the 1st element with the 2nd one.\n",
    "\n",
    "Recalling that **splitSwap(a,l,2)** and **splitSwap(a,l+2,2)** where called in **splitSwap(a,l,4)**, **swapList(a,l,4)** (that we will call **semi-final-node-subroutine**) will finally be executed, exchanging the position of the array's elements **a[l]** with **a[l+2]** and **a[l+1]** with **a[l+3]**. So the role of **semi-final-node-subroutines** is to consider the array (starting from the element $a[l]$) as a sequence of $\\frac{n}{4}$ couples of couples and to exchange the position of the 1st element of the 1st couple with the 1st element of the 2nd couple, and the 2nd element of the 1st couple with the 2nd element of the 2nd couple. Basically, after the execution of all the **final-node-subroutines** and of the  **semi-final-node-subroutines** the position of the 1st group of 4 elements of the original array will be reversed, the same for the 2nd group of 4 elements and so on. We can so climb our recursive function tree from the **final-node-subroutines** up to the top **first-final-node-subroutine** i.e. **swapList(a,l,n)**. We can see the effect of each kind of **subroutine** level over a test array in two examples at (Fig.2,3) recalling that the output of the **first-final-node-subroutine** will be equal to the algorithm's output.\n",
    "\n",
    "Having assessed that the algorithm complexity is $\\simeq O(n\\cdot log_2(n))$, it is possible to confirm that the algorithm it's not optimal: infact it is easily possible to write some pseudo-code with a lower complexity than the given algorithm:\n",
    "\n",
    "```python\n",
    "def reverse(a,l,n):\n",
    "    reversed_array=a\n",
    "    for i in range(n):\n",
    "        reversed_array[i+l]=a[l+n-i]\n",
    "    return reversed_array\n",
    "```\n",
    "\n",
    "We can easily see that the **reverse()** algorithm complexity has now become (removing costant therms and factors) $O(n)$, proving that the **splitSwap()** algorithm was not optimal."
   ],
   "metadata": {
    "collapsed": false
   }
  },
  {
   "cell_type": "markdown",
   "source": [
    "<figure>\n",
    "\n",
    "  <img src =\"https://drive.google.com/uc?export=view&id=1VP65dIPAoMyp2YGBC59AwacUQynJ7rK_\" width=40%>\n",
    "<figcaption align=\"center\"> Fig.1 :Reaching the first final-node-subroutine</figcaption>\n",
    "</figure>"
   ],
   "metadata": {
    "collapsed": false
   }
  },
  {
   "cell_type": "markdown",
   "source": [
    "<figure>\n",
    "\n",
    "  <img src =\"https://drive.google.com/uc?export=view&id=1a5aDf8nmvmhTVc3KpRu3A072Xc2DWfY6\" width=140%>\n",
    "<figcaption align=\"center\"> Fig.2 :Test over a with len(a)=n=16, l=0</figcaption>\n",
    "</figure>\n",
    "\n",
    "<figure>\n",
    "\n",
    "  <img src =\"https://drive.google.com/uc?export=view&id=1SH6fTN4Xp8Oiowht0D7VSN5ypnbB_oN6\" width=140%>\n",
    "<figcaption align=\"center\"> Fig.3 :Test over a with len(a)=16, n=8, l=7</figcaption>\n",
    "</figure>"
   ],
   "metadata": {
    "collapsed": false
   }
  },
  {
   "cell_type": "markdown",
   "source": [
    "# $TQ_3$: Knapsack\n",
    "In this theoretical question we have to face with a NP-complete problem: the Knapsack one. To solve it generally we have to use heuristic solutions but in some cases they fail to provide the optimal solution.\n",
    "* The first heuristic solution is a greedy algorithm in which we order the object in increasing order of weight and then visit them sequentially, adding them to the solution as long as the budget is not exceeded. This algorithm does not provide the optimal solution in every situation indeed in my counterexample this greedy algorithm fails: we fix the budget: **W** = 10 and we have three object.\n",
    "\n",
    "\n",
    "|i    |w_i| v_i|\n",
    "|-----|---|----|\n",
    "|1    |4  |3   |\n",
    "|2    |6  |5   |\n",
    "|3    |10 |9   |\n",
    "\n",
    "We have to visit the object sequentially so we are going to pick the first two objects, but we cannot pick the third one because we will exceed the budget. This choice is not optimal because it would be better pick only the third object because its values (9) is greater of the sum of the first two (8).\n",
    "\n",
    "* In the second heuristic solution we have to order the objects in decreasing order of values, and then visit them sequentially, adding them to the solution if the budget is not exceeded. This algorithm does not provide the optimal solution in each situation indeed in my counterexample this greedy algorithm fails: I have decided to choose the same budget **W** = 10 and the same number of object of the last counterexample.\n",
    "\n",
    "|i    |w_i| v_i|\n",
    "|-----|---|----|\n",
    "|1    |9  |9   |\n",
    "|2    |7  |7   |\n",
    "|3    |3 |3   |\n",
    "\n",
    "We have to visit the objects sequentially so we are going to pick the first object, but we cannot pick the last two because we will exceed the budget. This choice is not optimal because it would be better pick the second and the third objects because the sum of their values (10) is greater of the first object value (9).\n",
    "\n",
    "* In the third heuristic solution we have to order them in decreasing relative value ($v_1$/ $w_i$), and then visit them sequentially, adding them to the solution if the budget is not exceeded\n",
    "This algorithm does not provide the optimal solution in each situation indeed in my counterexample this greedy algorithm fails: I have decided to choose the same budget **W** = 10 and the same number of object of the two last counterexamples.\n",
    "\n",
    "|i    |w_i| v_i|\n",
    "|-----|---|----|\n",
    "|1    |9  |10   |\n",
    "|2    |7  |7   |\n",
    "|3    |3 |3   |\n",
    "\n",
    "We have to visit the objects sequentially so we are going to pick the first object whose relative value is 1.11 while the one of the other objects is 1. We cannot pick the last two because we will exceed the budget. This choice is not optimal because it would be better pick the second and the third objects because the sum of their values (10) is greater of the first object value (9)."
   ],
   "metadata": {
    "collapsed": false
   }
  }
 ]
}